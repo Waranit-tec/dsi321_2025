{
 "cells": [
  {
   "cell_type": "code",
   "execution_count": 1,
   "id": "83c2a641-ec0e-4163-ad71-4761f75d1fc6",
   "metadata": {},
   "outputs": [
    {
     "name": "stdout",
     "output_type": "stream",
     "text": [
      "File not found: s3a://weather/main/weather.parquet/year=2025/month=5/day=13/hour=3/3f5d0f9a031c4b0193cbcba94a518b4b-0.parquet\n",
      "Unable to read the file because it does not exist.\n"
     ]
    }
   ],
   "source": [
    "import pandas as pd\n",
    "import fsspec\n",
    "\n",
    "# lakeFS credentials from your docker-compose.yml\n",
    "ACCESS_KEY = \"access_key\"\n",
    "SECRET_KEY = \"secret_key\"\n",
    "\n",
    "# lakeFS endpoint (running locally)\n",
    "lakefs_endpoint = \"http://lakefs-dev:8000/\"\n",
    "\n",
    "# lakeFS repository, branch, and file path\n",
    "repo = \"weather\"\n",
    "branch = \"main\"\n",
    "path = \"weather.parquet\"\n",
    "\n",
    "# Construct the full lakeFS S3-compatible path\n",
    "lakefs_s3_path = f\"s3a://{repo}/{branch}/{path}\"\n",
    "\n",
    "# Configure storage_options for lakeFS (S3-compatible)\n",
    "storage_options = {\n",
    "    \"key\": ACCESS_KEY,\n",
    "    \"secret\": SECRET_KEY,\n",
    "    \"client_kwargs\": {\n",
    "        \"endpoint_url\": lakefs_endpoint\n",
    "    }\n",
    "}\n",
    "\n",
    "# ตัวอย่างพาธไฟล์ที่มีในระบบ\n",
    "full_file_path = 's3a://weather/main/weather.parquet/year=2025/month=5/day=13/hour=3/3f5d0f9a031c4b0193cbcba94a518b4b-0.parquet'\n",
    "\n",
    "# Use fsspec to create the filesystem\n",
    "fs = fsspec.filesystem(\"s3\", **storage_options)\n",
    "\n",
    "# Check if the file exists using the filesystem\n",
    "def check_file_exists(file_path):\n",
    "    try:\n",
    "        # Check if file exists on S3 or lakeFS\n",
    "        if fs.exists(file_path):\n",
    "            print(f\"File found: {file_path}\")\n",
    "            return True\n",
    "        else:\n",
    "            print(f\"File not found: {file_path}\")\n",
    "            return False\n",
    "    except Exception as e:\n",
    "        print(f\"Error checking file: {e}\")\n",
    "        return False\n",
    "\n",
    "# If file exists, read the data\n",
    "if check_file_exists(full_file_path):\n",
    "    try:\n",
    "        # Read the parquet file using the 'pyarrow' engine\n",
    "        df2 = pd.read_parquet(\n",
    "            full_file_path,\n",
    "            engine='pyarrow',  # Specify engine as pyarrow\n",
    "            filesystem=fs  # Pass the fsspec filesystem\n",
    "        )\n",
    "        print(df2.info())\n",
    "        print(df2.head())\n",
    "    except Exception as e:\n",
    "        print(f\"Error reading the parquet file: {e}\")\n",
    "else:\n",
    "    print(\"Unable to read the file because it does not exist.\")"
   ]
  },
  {
   "cell_type": "code",
   "execution_count": 2,
   "id": "e53e6501-81eb-40c2-834d-53f8438805a8",
   "metadata": {},
   "outputs": [
    {
     "ename": "NameError",
     "evalue": "name 'df2' is not defined",
     "output_type": "error",
     "traceback": [
      "\u001b[31m---------------------------------------------------------------------------\u001b[39m",
      "\u001b[31mNameError\u001b[39m                                 Traceback (most recent call last)",
      "\u001b[36mCell\u001b[39m\u001b[36m \u001b[39m\u001b[32mIn[2]\u001b[39m\u001b[32m, line 1\u001b[39m\n\u001b[32m----> \u001b[39m\u001b[32m1\u001b[39m \u001b[43mdf2\u001b[49m.hist()\n",
      "\u001b[31mNameError\u001b[39m: name 'df2' is not defined"
     ]
    }
   ],
   "source": [
    "df2.hist()"
   ]
  },
  {
   "cell_type": "code",
   "execution_count": null,
   "id": "b5b473b9-e784-4af9-ab07-271690c4ec52",
   "metadata": {},
   "outputs": [],
   "source": []
  }
 ],
 "metadata": {
  "kernelspec": {
   "display_name": "Python 3 (ipykernel)",
   "language": "python",
   "name": "python3"
  },
  "language_info": {
   "codemirror_mode": {
    "name": "ipython",
    "version": 3
   },
   "file_extension": ".py",
   "mimetype": "text/x-python",
   "name": "python",
   "nbconvert_exporter": "python",
   "pygments_lexer": "ipython3",
   "version": "3.11.9"
  }
 },
 "nbformat": 4,
 "nbformat_minor": 5
}
