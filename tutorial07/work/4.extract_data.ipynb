{
 "cells": [
  {
   "cell_type": "code",
   "execution_count": 1,
   "id": "92ad758c-7fde-4858-ad61-10ac970efab1",
   "metadata": {},
   "outputs": [
    {
     "data": {
      "text/html": [
       "<pre style=\"white-space:pre;overflow-x:auto;line-height:normal;font-family:Menlo,'DejaVu Sans Mono',consolas,'Courier New',monospace\">06:56:45.223 | <span style=\"color: #008080; text-decoration-color: #008080\">INFO</span>    | prefect.engine - Created flow run<span style=\"color: #800080; text-decoration-color: #800080\"> 'mega-caribou'</span> for flow<span style=\"color: #800080; text-decoration-color: #800080; font-weight: bold\"> 'show_stars: 4.extract_data'</span>\n",
       "</pre>\n"
      ],
      "text/plain": [
       "06:56:45.223 | \u001b[36mINFO\u001b[0m    | prefect.engine - Created flow run\u001b[35m 'mega-caribou'\u001b[0m for flow\u001b[1;35m 'show_stars: 4.extract_data'\u001b[0m\n"
      ]
     },
     "metadata": {},
     "output_type": "display_data"
    },
    {
     "data": {
      "text/html": [
       "<pre style=\"white-space:pre;overflow-x:auto;line-height:normal;font-family:Menlo,'DejaVu Sans Mono',consolas,'Courier New',monospace\">06:56:45.225 | <span style=\"color: #008080; text-decoration-color: #008080\">INFO</span>    | prefect.engine - View at <span style=\"color: #0000ff; text-decoration-color: #0000ff\">http://prefect-server:4200/runs/flow-run/ecef60b9-df2d-4d6b-a869-fcbf7c9ad204</span>\n",
       "</pre>\n"
      ],
      "text/plain": [
       "06:56:45.225 | \u001b[36mINFO\u001b[0m    | prefect.engine - View at \u001b[94mhttp://prefect-server:4200/runs/flow-run/ecef60b9-df2d-4d6b-a869-fcbf7c9ad204\u001b[0m\n"
      ]
     },
     "metadata": {},
     "output_type": "display_data"
    },
    {
     "data": {
      "text/html": [
       "<pre style=\"white-space:pre;overflow-x:auto;line-height:normal;font-family:Menlo,'DejaVu Sans Mono',consolas,'Courier New',monospace\">06:56:45.360 | <span style=\"color: #008080; text-decoration-color: #008080\">INFO</span>    | Task run 'fetch_stats-0' - Created task run 'fetch_stats-0' for task 'fetch_stats'\n",
       "</pre>\n"
      ],
      "text/plain": [
       "06:56:45.360 | \u001b[36mINFO\u001b[0m    | Task run 'fetch_stats-0' - Created task run 'fetch_stats-0' for task 'fetch_stats'\n"
      ]
     },
     "metadata": {},
     "output_type": "display_data"
    },
    {
     "data": {
      "text/html": [
       "<pre style=\"white-space:pre;overflow-x:auto;line-height:normal;font-family:Menlo,'DejaVu Sans Mono',consolas,'Courier New',monospace\">06:56:45.904 | <span style=\"color: #008080; text-decoration-color: #008080\">INFO</span>    | Task run 'fetch_stats-0' - Finished in state <span style=\"color: #008000; text-decoration-color: #008000\">Completed</span>()\n",
       "</pre>\n"
      ],
      "text/plain": [
       "06:56:45.904 | \u001b[36mINFO\u001b[0m    | Task run 'fetch_stats-0' - Finished in state \u001b[32mCompleted\u001b[0m()\n"
      ]
     },
     "metadata": {},
     "output_type": "display_data"
    },
    {
     "data": {
      "text/html": [
       "<pre style=\"white-space:pre;overflow-x:auto;line-height:normal;font-family:Menlo,'DejaVu Sans Mono',consolas,'Courier New',monospace\">06:56:45.995 | <span style=\"color: #008080; text-decoration-color: #008080\">INFO</span>    | Task run 'get_stars-0' - Created task run 'get_stars-0' for task 'get_stars'\n",
       "</pre>\n"
      ],
      "text/plain": [
       "06:56:45.995 | \u001b[36mINFO\u001b[0m    | Task run 'get_stars-0' - Created task run 'get_stars-0' for task 'get_stars'\n"
      ]
     },
     "metadata": {},
     "output_type": "display_data"
    },
    {
     "data": {
      "text/html": [
       "<pre style=\"white-space:pre;overflow-x:auto;line-height:normal;font-family:Menlo,'DejaVu Sans Mono',consolas,'Courier New',monospace\">06:56:46.080 | <span style=\"color: #008080; text-decoration-color: #008080\">INFO</span>    | Task run 'get_stars-0' - Finished in state <span style=\"color: #008000; text-decoration-color: #008000\">Completed</span>()\n",
       "</pre>\n"
      ],
      "text/plain": [
       "06:56:46.080 | \u001b[36mINFO\u001b[0m    | Task run 'get_stars-0' - Finished in state \u001b[32mCompleted\u001b[0m()\n"
      ]
     },
     "metadata": {},
     "output_type": "display_data"
    },
    {
     "data": {
      "text/html": [
       "<pre style=\"white-space:pre;overflow-x:auto;line-height:normal;font-family:Menlo,'DejaVu Sans Mono',consolas,'Courier New',monospace\">06:56:46.082 | <span style=\"color: #008080; text-decoration-color: #008080\">INFO</span>    | Flow run<span style=\"color: #800080; text-decoration-color: #800080\"> 'mega-caribou'</span> - wasit7/papapipeline: 2 stars\n",
       "</pre>\n"
      ],
      "text/plain": [
       "06:56:46.082 | \u001b[36mINFO\u001b[0m    | Flow run\u001b[35m 'mega-caribou'\u001b[0m - wasit7/papapipeline: 2 stars\n"
      ]
     },
     "metadata": {},
     "output_type": "display_data"
    },
    {
     "data": {
      "text/html": [
       "<pre style=\"white-space:pre;overflow-x:auto;line-height:normal;font-family:Menlo,'DejaVu Sans Mono',consolas,'Courier New',monospace\">06:56:46.160 | <span style=\"color: #008080; text-decoration-color: #008080\">INFO</span>    | Task run 'fetch_stats-1' - Created task run 'fetch_stats-1' for task 'fetch_stats'\n",
       "</pre>\n"
      ],
      "text/plain": [
       "06:56:46.160 | \u001b[36mINFO\u001b[0m    | Task run 'fetch_stats-1' - Created task run 'fetch_stats-1' for task 'fetch_stats'\n"
      ]
     },
     "metadata": {},
     "output_type": "display_data"
    },
    {
     "data": {
      "text/html": [
       "<pre style=\"white-space:pre;overflow-x:auto;line-height:normal;font-family:Menlo,'DejaVu Sans Mono',consolas,'Courier New',monospace\">06:56:46.715 | <span style=\"color: #008080; text-decoration-color: #008080\">INFO</span>    | Task run 'fetch_stats-1' - Finished in state <span style=\"color: #008000; text-decoration-color: #008000\">Completed</span>()\n",
       "</pre>\n"
      ],
      "text/plain": [
       "06:56:46.715 | \u001b[36mINFO\u001b[0m    | Task run 'fetch_stats-1' - Finished in state \u001b[32mCompleted\u001b[0m()\n"
      ]
     },
     "metadata": {},
     "output_type": "display_data"
    },
    {
     "data": {
      "text/html": [
       "<pre style=\"white-space:pre;overflow-x:auto;line-height:normal;font-family:Menlo,'DejaVu Sans Mono',consolas,'Courier New',monospace\">06:56:46.789 | <span style=\"color: #008080; text-decoration-color: #008080\">INFO</span>    | Task run 'get_stars-1' - Created task run 'get_stars-1' for task 'get_stars'\n",
       "</pre>\n"
      ],
      "text/plain": [
       "06:56:46.789 | \u001b[36mINFO\u001b[0m    | Task run 'get_stars-1' - Created task run 'get_stars-1' for task 'get_stars'\n"
      ]
     },
     "metadata": {},
     "output_type": "display_data"
    },
    {
     "data": {
      "text/html": [
       "<pre style=\"white-space:pre;overflow-x:auto;line-height:normal;font-family:Menlo,'DejaVu Sans Mono',consolas,'Courier New',monospace\">06:56:46.859 | <span style=\"color: #008080; text-decoration-color: #008080\">INFO</span>    | Task run 'get_stars-1' - Finished in state <span style=\"color: #008000; text-decoration-color: #008000\">Completed</span>()\n",
       "</pre>\n"
      ],
      "text/plain": [
       "06:56:46.859 | \u001b[36mINFO\u001b[0m    | Task run 'get_stars-1' - Finished in state \u001b[32mCompleted\u001b[0m()\n"
      ]
     },
     "metadata": {},
     "output_type": "display_data"
    },
    {
     "data": {
      "text/html": [
       "<pre style=\"white-space:pre;overflow-x:auto;line-height:normal;font-family:Menlo,'DejaVu Sans Mono',consolas,'Courier New',monospace\">06:56:46.860 | <span style=\"color: #008080; text-decoration-color: #008080\">INFO</span>    | Flow run<span style=\"color: #800080; text-decoration-color: #800080\"> 'mega-caribou'</span> - wasit7/DjangoCrafter: 0 stars\n",
       "</pre>\n"
      ],
      "text/plain": [
       "06:56:46.860 | \u001b[36mINFO\u001b[0m    | Flow run\u001b[35m 'mega-caribou'\u001b[0m - wasit7/DjangoCrafter: 0 stars\n"
      ]
     },
     "metadata": {},
     "output_type": "display_data"
    },
    {
     "data": {
      "text/html": [
       "<pre style=\"white-space:pre;overflow-x:auto;line-height:normal;font-family:Menlo,'DejaVu Sans Mono',consolas,'Courier New',monospace\">06:56:46.928 | <span style=\"color: #008080; text-decoration-color: #008080\">INFO</span>    | Task run 'fetch_stats-2' - Created task run 'fetch_stats-2' for task 'fetch_stats'\n",
       "</pre>\n"
      ],
      "text/plain": [
       "06:56:46.928 | \u001b[36mINFO\u001b[0m    | Task run 'fetch_stats-2' - Created task run 'fetch_stats-2' for task 'fetch_stats'\n"
      ]
     },
     "metadata": {},
     "output_type": "display_data"
    },
    {
     "data": {
      "text/html": [
       "<pre style=\"white-space:pre;overflow-x:auto;line-height:normal;font-family:Menlo,'DejaVu Sans Mono',consolas,'Courier New',monospace\">06:56:47.516 | <span style=\"color: #008080; text-decoration-color: #008080\">INFO</span>    | Task run 'fetch_stats-2' - Finished in state <span style=\"color: #008000; text-decoration-color: #008000\">Completed</span>()\n",
       "</pre>\n"
      ],
      "text/plain": [
       "06:56:47.516 | \u001b[36mINFO\u001b[0m    | Task run 'fetch_stats-2' - Finished in state \u001b[32mCompleted\u001b[0m()\n"
      ]
     },
     "metadata": {},
     "output_type": "display_data"
    },
    {
     "data": {
      "text/html": [
       "<pre style=\"white-space:pre;overflow-x:auto;line-height:normal;font-family:Menlo,'DejaVu Sans Mono',consolas,'Courier New',monospace\">06:56:47.595 | <span style=\"color: #008080; text-decoration-color: #008080\">INFO</span>    | Task run 'get_stars-2' - Created task run 'get_stars-2' for task 'get_stars'\n",
       "</pre>\n"
      ],
      "text/plain": [
       "06:56:47.595 | \u001b[36mINFO\u001b[0m    | Task run 'get_stars-2' - Created task run 'get_stars-2' for task 'get_stars'\n"
      ]
     },
     "metadata": {},
     "output_type": "display_data"
    },
    {
     "data": {
      "text/html": [
       "<pre style=\"white-space:pre;overflow-x:auto;line-height:normal;font-family:Menlo,'DejaVu Sans Mono',consolas,'Courier New',monospace\">06:56:47.663 | <span style=\"color: #008080; text-decoration-color: #008080\">INFO</span>    | Task run 'get_stars-2' - Finished in state <span style=\"color: #008000; text-decoration-color: #008000\">Completed</span>()\n",
       "</pre>\n"
      ],
      "text/plain": [
       "06:56:47.663 | \u001b[36mINFO\u001b[0m    | Task run 'get_stars-2' - Finished in state \u001b[32mCompleted\u001b[0m()\n"
      ]
     },
     "metadata": {},
     "output_type": "display_data"
    },
    {
     "data": {
      "text/html": [
       "<pre style=\"white-space:pre;overflow-x:auto;line-height:normal;font-family:Menlo,'DejaVu Sans Mono',consolas,'Courier New',monospace\">06:56:47.665 | <span style=\"color: #008080; text-decoration-color: #008080\">INFO</span>    | Flow run<span style=\"color: #800080; text-decoration-color: #800080\"> 'mega-caribou'</span> - PrefectHQ/prefect: 19217 stars\n",
       "</pre>\n"
      ],
      "text/plain": [
       "06:56:47.665 | \u001b[36mINFO\u001b[0m    | Flow run\u001b[35m 'mega-caribou'\u001b[0m - PrefectHQ/prefect: 19217 stars\n"
      ]
     },
     "metadata": {},
     "output_type": "display_data"
    },
    {
     "data": {
      "text/html": [
       "<pre style=\"white-space:pre;overflow-x:auto;line-height:normal;font-family:Menlo,'DejaVu Sans Mono',consolas,'Courier New',monospace\">06:56:47.742 | <span style=\"color: #008080; text-decoration-color: #008080\">INFO</span>    | Task run 'fetch_stats-3' - Created task run 'fetch_stats-3' for task 'fetch_stats'\n",
       "</pre>\n"
      ],
      "text/plain": [
       "06:56:47.742 | \u001b[36mINFO\u001b[0m    | Task run 'fetch_stats-3' - Created task run 'fetch_stats-3' for task 'fetch_stats'\n"
      ]
     },
     "metadata": {},
     "output_type": "display_data"
    },
    {
     "data": {
      "text/html": [
       "<pre style=\"white-space:pre;overflow-x:auto;line-height:normal;font-family:Menlo,'DejaVu Sans Mono',consolas,'Courier New',monospace\">06:56:48.012 | <span style=\"color: #008080; text-decoration-color: #008080\">INFO</span>    | Task run 'fetch_stats-3' - Finished in state <span style=\"color: #008000; text-decoration-color: #008000\">Completed</span>()\n",
       "</pre>\n"
      ],
      "text/plain": [
       "06:56:48.012 | \u001b[36mINFO\u001b[0m    | Task run 'fetch_stats-3' - Finished in state \u001b[32mCompleted\u001b[0m()\n"
      ]
     },
     "metadata": {},
     "output_type": "display_data"
    },
    {
     "data": {
      "text/html": [
       "<pre style=\"white-space:pre;overflow-x:auto;line-height:normal;font-family:Menlo,'DejaVu Sans Mono',consolas,'Courier New',monospace\">06:56:48.082 | <span style=\"color: #008080; text-decoration-color: #008080\">INFO</span>    | Task run 'get_stars-3' - Created task run 'get_stars-3' for task 'get_stars'\n",
       "</pre>\n"
      ],
      "text/plain": [
       "06:56:48.082 | \u001b[36mINFO\u001b[0m    | Task run 'get_stars-3' - Created task run 'get_stars-3' for task 'get_stars'\n"
      ]
     },
     "metadata": {},
     "output_type": "display_data"
    },
    {
     "data": {
      "text/html": [
       "<pre style=\"white-space:pre;overflow-x:auto;line-height:normal;font-family:Menlo,'DejaVu Sans Mono',consolas,'Courier New',monospace\">06:56:48.153 | <span style=\"color: #008080; text-decoration-color: #008080\">INFO</span>    | Task run 'get_stars-3' - Finished in state <span style=\"color: #008000; text-decoration-color: #008000\">Completed</span>()\n",
       "</pre>\n"
      ],
      "text/plain": [
       "06:56:48.153 | \u001b[36mINFO\u001b[0m    | Task run 'get_stars-3' - Finished in state \u001b[32mCompleted\u001b[0m()\n"
      ]
     },
     "metadata": {},
     "output_type": "display_data"
    },
    {
     "data": {
      "text/html": [
       "<pre style=\"white-space:pre;overflow-x:auto;line-height:normal;font-family:Menlo,'DejaVu Sans Mono',consolas,'Courier New',monospace\">06:56:48.154 | <span style=\"color: #008080; text-decoration-color: #008080\">INFO</span>    | Flow run<span style=\"color: #800080; text-decoration-color: #800080\"> 'mega-caribou'</span> - huggingface/transformers: 143983 stars\n",
       "</pre>\n"
      ],
      "text/plain": [
       "06:56:48.154 | \u001b[36mINFO\u001b[0m    | Flow run\u001b[35m 'mega-caribou'\u001b[0m - huggingface/transformers: 143983 stars\n"
      ]
     },
     "metadata": {},
     "output_type": "display_data"
    },
    {
     "data": {
      "text/html": [
       "<pre style=\"white-space:pre;overflow-x:auto;line-height:normal;font-family:Menlo,'DejaVu Sans Mono',consolas,'Courier New',monospace\">06:56:48.167 | <span style=\"color: #008080; text-decoration-color: #008080\">INFO</span>    | Flow run<span style=\"color: #800080; text-decoration-color: #800080\"> 'mega-caribou'</span> - Finished in state <span style=\"color: #008000; text-decoration-color: #008000\">Completed</span>()\n",
       "</pre>\n"
      ],
      "text/plain": [
       "06:56:48.167 | \u001b[36mINFO\u001b[0m    | Flow run\u001b[35m 'mega-caribou'\u001b[0m - Finished in state \u001b[32mCompleted\u001b[0m()\n"
      ]
     },
     "metadata": {},
     "output_type": "display_data"
    }
   ],
   "source": [
    "import httpx\n",
    "\n",
    "from prefect import flow, task # Prefect flow and task decorators\n",
    "\n",
    "\n",
    "@flow(name=\"show_stars: 4.extract_data\", log_prints=True)\n",
    "def show_stars(github_repos: list[str]):\n",
    "    \"\"\"Flow: Show the number of stars that GitHub repos have\"\"\"\n",
    "\n",
    "    for repo in github_repos:\n",
    "        # Call Task 1\n",
    "        repo_stats = fetch_stats(repo)\n",
    "\n",
    "        # Call Task 2\n",
    "        stars = get_stars(repo_stats)\n",
    "\n",
    "        # Print the result\n",
    "        print(f\"{repo}: {stars} stars\")\n",
    "\n",
    "\n",
    "@task\n",
    "def fetch_stats(github_repo: str):\n",
    "    \"\"\"Task 1: Fetch the statistics for a GitHub repo\"\"\"\n",
    "\n",
    "    return httpx.get(f\"https://api.github.com/repos/{github_repo}\").json()\n",
    "\n",
    "\n",
    "@task\n",
    "def get_stars(repo_stats: dict):\n",
    "    \"\"\"Task 2: Get the number of stars from GitHub repo statistics\"\"\"\n",
    "\n",
    "    return repo_stats['stargazers_count']\n",
    "\n",
    "\n",
    "# Run the flow\n",
    "if __name__ == \"__main__\":\n",
    "    show_stars([\n",
    "        \"wasit7/papapipeline\",\n",
    "        \"wasit7/DjangoCrafter\",\n",
    "        \"PrefectHQ/prefect\",\n",
    "        \"huggingface/transformers\"\n",
    "    ])"
   ]
  },
  {
   "cell_type": "code",
   "execution_count": null,
   "id": "0b24f8c2-05b0-4f07-bf00-be02a82e4351",
   "metadata": {},
   "outputs": [],
   "source": []
  }
 ],
 "metadata": {
  "kernelspec": {
   "display_name": "Python 3 (ipykernel)",
   "language": "python",
   "name": "python3"
  },
  "language_info": {
   "codemirror_mode": {
    "name": "ipython",
    "version": 3
   },
   "file_extension": ".py",
   "mimetype": "text/x-python",
   "name": "python",
   "nbconvert_exporter": "python",
   "pygments_lexer": "ipython3",
   "version": "3.11.9"
  }
 },
 "nbformat": 4,
 "nbformat_minor": 5
}
