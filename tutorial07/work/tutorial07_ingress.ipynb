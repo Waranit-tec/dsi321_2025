{
 "cells": [
  {
   "cell_type": "markdown",
   "id": "2b537ee8-fc9a-494a-9a4f-861eb7083835",
   "metadata": {},
   "source": [
    "# plan\n",
    "- define province names\n",
    "- create entrypoint for main flow\n",
    "- create subtasks\n",
    "  - get api results and parse to dataframe\n",
    "  - write the dataframe to lakefs\n"
   ]
  },
  {
   "cell_type": "code",
   "execution_count": null,
   "id": "9bab0920-b399-42de-ba7f-074aeb1ee475",
   "metadata": {},
   "outputs": [
    {
     "name": "stderr",
     "output_type": "stream",
     "text": [
      "\n",
      "A module that was compiled using NumPy 1.x cannot be run in\n",
      "NumPy 2.0.2 as it may crash. To support both 1.x and 2.x\n",
      "versions of NumPy, modules must be compiled with NumPy 2.0.\n",
      "Some module may need to rebuild instead e.g. with 'pybind11>=2.12'.\n",
      "\n",
      "If you are a user of the module, the easiest solution will be to\n",
      "downgrade to 'numpy<2' or try to upgrade the affected module.\n",
      "We expect that some modules will need time to support NumPy 2.\n",
      "\n",
      "Traceback (most recent call last):  File \"/Applications/anaconda3/lib/python3.9/runpy.py\", line 197, in _run_module_as_main\n",
      "    return _run_code(code, main_globals, None,\n",
      "  File \"/Applications/anaconda3/lib/python3.9/runpy.py\", line 87, in _run_code\n",
      "    exec(code, run_globals)\n",
      "  File \"/Applications/anaconda3/lib/python3.9/site-packages/ipykernel_launcher.py\", line 17, in <module>\n",
      "    app.launch_new_instance()\n",
      "  File \"/Applications/anaconda3/lib/python3.9/site-packages/traitlets/config/application.py\", line 1075, in launch_instance\n",
      "    app.start()\n",
      "  File \"/Applications/anaconda3/lib/python3.9/site-packages/ipykernel/kernelapp.py\", line 712, in start\n",
      "    self.io_loop.start()\n",
      "  File \"/Applications/anaconda3/lib/python3.9/site-packages/tornado/platform/asyncio.py\", line 199, in start\n",
      "    self.asyncio_loop.run_forever()\n",
      "  File \"/Applications/anaconda3/lib/python3.9/asyncio/base_events.py\", line 601, in run_forever\n",
      "    self._run_once()\n",
      "  File \"/Applications/anaconda3/lib/python3.9/asyncio/base_events.py\", line 1905, in _run_once\n",
      "    handle._run()\n",
      "  File \"/Applications/anaconda3/lib/python3.9/asyncio/events.py\", line 80, in _run\n",
      "    self._context.run(self._callback, *self._args)\n",
      "  File \"/Applications/anaconda3/lib/python3.9/site-packages/ipykernel/kernelbase.py\", line 510, in dispatch_queue\n",
      "    await self.process_one()\n",
      "  File \"/Applications/anaconda3/lib/python3.9/site-packages/ipykernel/kernelbase.py\", line 499, in process_one\n",
      "    await dispatch(*args)\n",
      "  File \"/Applications/anaconda3/lib/python3.9/site-packages/ipykernel/kernelbase.py\", line 406, in dispatch_shell\n",
      "    await result\n",
      "  File \"/Applications/anaconda3/lib/python3.9/site-packages/ipykernel/kernelbase.py\", line 730, in execute_request\n",
      "    reply_content = await reply_content\n",
      "  File \"/Applications/anaconda3/lib/python3.9/site-packages/ipykernel/ipkernel.py\", line 390, in do_execute\n",
      "    res = shell.run_cell(code, store_history=store_history, silent=silent)\n",
      "  File \"/Applications/anaconda3/lib/python3.9/site-packages/ipykernel/zmqshell.py\", line 528, in run_cell\n",
      "    return super().run_cell(*args, **kwargs)\n",
      "  File \"/Applications/anaconda3/lib/python3.9/site-packages/IPython/core/interactiveshell.py\", line 2914, in run_cell\n",
      "    result = self._run_cell(\n",
      "  File \"/Applications/anaconda3/lib/python3.9/site-packages/IPython/core/interactiveshell.py\", line 2960, in _run_cell\n",
      "    return runner(coro)\n",
      "  File \"/Applications/anaconda3/lib/python3.9/site-packages/IPython/core/async_helpers.py\", line 78, in _pseudo_sync_runner\n",
      "    coro.send(None)\n",
      "  File \"/Applications/anaconda3/lib/python3.9/site-packages/IPython/core/interactiveshell.py\", line 3185, in run_cell_async\n",
      "    has_raised = await self.run_ast_nodes(code_ast.body, cell_name,\n",
      "  File \"/Applications/anaconda3/lib/python3.9/site-packages/IPython/core/interactiveshell.py\", line 3377, in run_ast_nodes\n",
      "    if (await self.run_code(code, result,  async_=asy)):\n",
      "  File \"/Applications/anaconda3/lib/python3.9/site-packages/IPython/core/interactiveshell.py\", line 3457, in run_code\n",
      "    exec(code_obj, self.user_global_ns, self.user_ns)\n",
      "  File \"/var/folders/yg/qqqyfzc50fd4gs35b8hw1wb00000gn/T/ipykernel_84007/3650827765.py\", line 2, in <module>\n",
      "    import pandas as pd\n",
      "  File \"/Applications/anaconda3/lib/python3.9/site-packages/pandas/__init__.py\", line 49, in <module>\n",
      "    from pandas.core.api import (\n",
      "  File \"/Applications/anaconda3/lib/python3.9/site-packages/pandas/core/api.py\", line 28, in <module>\n",
      "    from pandas.core.arrays import Categorical\n",
      "  File \"/Applications/anaconda3/lib/python3.9/site-packages/pandas/core/arrays/__init__.py\", line 1, in <module>\n",
      "    from pandas.core.arrays.arrow import ArrowExtensionArray\n",
      "  File \"/Applications/anaconda3/lib/python3.9/site-packages/pandas/core/arrays/arrow/__init__.py\", line 5, in <module>\n",
      "    from pandas.core.arrays.arrow.array import ArrowExtensionArray\n",
      "  File \"/Applications/anaconda3/lib/python3.9/site-packages/pandas/core/arrays/arrow/array.py\", line 50, in <module>\n",
      "    from pandas.core import (\n",
      "  File \"/Applications/anaconda3/lib/python3.9/site-packages/pandas/core/ops/__init__.py\", line 8, in <module>\n",
      "    from pandas.core.ops.array_ops import (\n",
      "  File \"/Applications/anaconda3/lib/python3.9/site-packages/pandas/core/ops/array_ops.py\", line 56, in <module>\n",
      "    from pandas.core.computation import expressions\n",
      "  File \"/Applications/anaconda3/lib/python3.9/site-packages/pandas/core/computation/expressions.py\", line 21, in <module>\n",
      "    from pandas.core.computation.check import NUMEXPR_INSTALLED\n",
      "  File \"/Applications/anaconda3/lib/python3.9/site-packages/pandas/core/computation/check.py\", line 5, in <module>\n",
      "    ne = import_optional_dependency(\"numexpr\", errors=\"warn\")\n",
      "  File \"/Applications/anaconda3/lib/python3.9/site-packages/pandas/compat/_optional.py\", line 135, in import_optional_dependency\n",
      "    module = importlib.import_module(name)\n",
      "  File \"/Applications/anaconda3/lib/python3.9/importlib/__init__.py\", line 127, in import_module\n",
      "    return _bootstrap._gcd_import(name[level:], package, level)\n",
      "  File \"/Applications/anaconda3/lib/python3.9/site-packages/numexpr/__init__.py\", line 24, in <module>\n",
      "    from numexpr.interpreter import MAX_THREADS, use_vml, __BLOCK_SIZE1__\n"
     ]
    },
    {
     "ename": "AttributeError",
     "evalue": "_ARRAY_API not found",
     "output_type": "error",
     "traceback": [
      "\u001b[0;31m---------------------------------------------------------------------------\u001b[0m",
      "\u001b[0;31mAttributeError\u001b[0m                            Traceback (most recent call last)",
      "\u001b[0;31mAttributeError\u001b[0m: _ARRAY_API not found"
     ]
    },
    {
     "name": "stderr",
     "output_type": "stream",
     "text": [
      "\n",
      "A module that was compiled using NumPy 1.x cannot be run in\n",
      "NumPy 2.0.2 as it may crash. To support both 1.x and 2.x\n",
      "versions of NumPy, modules must be compiled with NumPy 2.0.\n",
      "Some module may need to rebuild instead e.g. with 'pybind11>=2.12'.\n",
      "\n",
      "If you are a user of the module, the easiest solution will be to\n",
      "downgrade to 'numpy<2' or try to upgrade the affected module.\n",
      "We expect that some modules will need time to support NumPy 2.\n",
      "\n",
      "Traceback (most recent call last):  File \"/Applications/anaconda3/lib/python3.9/runpy.py\", line 197, in _run_module_as_main\n",
      "    return _run_code(code, main_globals, None,\n",
      "  File \"/Applications/anaconda3/lib/python3.9/runpy.py\", line 87, in _run_code\n",
      "    exec(code, run_globals)\n",
      "  File \"/Applications/anaconda3/lib/python3.9/site-packages/ipykernel_launcher.py\", line 17, in <module>\n",
      "    app.launch_new_instance()\n",
      "  File \"/Applications/anaconda3/lib/python3.9/site-packages/traitlets/config/application.py\", line 1075, in launch_instance\n",
      "    app.start()\n",
      "  File \"/Applications/anaconda3/lib/python3.9/site-packages/ipykernel/kernelapp.py\", line 712, in start\n",
      "    self.io_loop.start()\n",
      "  File \"/Applications/anaconda3/lib/python3.9/site-packages/tornado/platform/asyncio.py\", line 199, in start\n",
      "    self.asyncio_loop.run_forever()\n",
      "  File \"/Applications/anaconda3/lib/python3.9/asyncio/base_events.py\", line 601, in run_forever\n",
      "    self._run_once()\n",
      "  File \"/Applications/anaconda3/lib/python3.9/asyncio/base_events.py\", line 1905, in _run_once\n",
      "    handle._run()\n",
      "  File \"/Applications/anaconda3/lib/python3.9/asyncio/events.py\", line 80, in _run\n",
      "    self._context.run(self._callback, *self._args)\n",
      "  File \"/Applications/anaconda3/lib/python3.9/site-packages/ipykernel/kernelbase.py\", line 510, in dispatch_queue\n",
      "    await self.process_one()\n",
      "  File \"/Applications/anaconda3/lib/python3.9/site-packages/ipykernel/kernelbase.py\", line 499, in process_one\n",
      "    await dispatch(*args)\n",
      "  File \"/Applications/anaconda3/lib/python3.9/site-packages/ipykernel/kernelbase.py\", line 406, in dispatch_shell\n",
      "    await result\n",
      "  File \"/Applications/anaconda3/lib/python3.9/site-packages/ipykernel/kernelbase.py\", line 730, in execute_request\n",
      "    reply_content = await reply_content\n",
      "  File \"/Applications/anaconda3/lib/python3.9/site-packages/ipykernel/ipkernel.py\", line 390, in do_execute\n",
      "    res = shell.run_cell(code, store_history=store_history, silent=silent)\n",
      "  File \"/Applications/anaconda3/lib/python3.9/site-packages/ipykernel/zmqshell.py\", line 528, in run_cell\n",
      "    return super().run_cell(*args, **kwargs)\n",
      "  File \"/Applications/anaconda3/lib/python3.9/site-packages/IPython/core/interactiveshell.py\", line 2914, in run_cell\n",
      "    result = self._run_cell(\n",
      "  File \"/Applications/anaconda3/lib/python3.9/site-packages/IPython/core/interactiveshell.py\", line 2960, in _run_cell\n",
      "    return runner(coro)\n",
      "  File \"/Applications/anaconda3/lib/python3.9/site-packages/IPython/core/async_helpers.py\", line 78, in _pseudo_sync_runner\n",
      "    coro.send(None)\n",
      "  File \"/Applications/anaconda3/lib/python3.9/site-packages/IPython/core/interactiveshell.py\", line 3185, in run_cell_async\n",
      "    has_raised = await self.run_ast_nodes(code_ast.body, cell_name,\n",
      "  File \"/Applications/anaconda3/lib/python3.9/site-packages/IPython/core/interactiveshell.py\", line 3377, in run_ast_nodes\n",
      "    if (await self.run_code(code, result,  async_=asy)):\n",
      "  File \"/Applications/anaconda3/lib/python3.9/site-packages/IPython/core/interactiveshell.py\", line 3457, in run_code\n",
      "    exec(code_obj, self.user_global_ns, self.user_ns)\n",
      "  File \"/var/folders/yg/qqqyfzc50fd4gs35b8hw1wb00000gn/T/ipykernel_84007/3650827765.py\", line 2, in <module>\n",
      "    import pandas as pd\n",
      "  File \"/Applications/anaconda3/lib/python3.9/site-packages/pandas/__init__.py\", line 49, in <module>\n",
      "    from pandas.core.api import (\n",
      "  File \"/Applications/anaconda3/lib/python3.9/site-packages/pandas/core/api.py\", line 28, in <module>\n",
      "    from pandas.core.arrays import Categorical\n",
      "  File \"/Applications/anaconda3/lib/python3.9/site-packages/pandas/core/arrays/__init__.py\", line 1, in <module>\n",
      "    from pandas.core.arrays.arrow import ArrowExtensionArray\n",
      "  File \"/Applications/anaconda3/lib/python3.9/site-packages/pandas/core/arrays/arrow/__init__.py\", line 5, in <module>\n",
      "    from pandas.core.arrays.arrow.array import ArrowExtensionArray\n",
      "  File \"/Applications/anaconda3/lib/python3.9/site-packages/pandas/core/arrays/arrow/array.py\", line 64, in <module>\n",
      "    from pandas.core.arrays.masked import BaseMaskedArray\n",
      "  File \"/Applications/anaconda3/lib/python3.9/site-packages/pandas/core/arrays/masked.py\", line 60, in <module>\n",
      "    from pandas.core import (\n",
      "  File \"/Applications/anaconda3/lib/python3.9/site-packages/pandas/core/nanops.py\", line 52, in <module>\n",
      "    bn = import_optional_dependency(\"bottleneck\", errors=\"warn\")\n",
      "  File \"/Applications/anaconda3/lib/python3.9/site-packages/pandas/compat/_optional.py\", line 135, in import_optional_dependency\n",
      "    module = importlib.import_module(name)\n",
      "  File \"/Applications/anaconda3/lib/python3.9/importlib/__init__.py\", line 127, in import_module\n",
      "    return _bootstrap._gcd_import(name[level:], package, level)\n",
      "  File \"/Applications/anaconda3/lib/python3.9/site-packages/bottleneck/__init__.py\", line 7, in <module>\n",
      "    from .move import (move_argmax, move_argmin, move_max, move_mean, move_median,\n"
     ]
    },
    {
     "ename": "AttributeError",
     "evalue": "_ARRAY_API not found",
     "output_type": "error",
     "traceback": [
      "\u001b[0;31m---------------------------------------------------------------------------\u001b[0m",
      "\u001b[0;31mAttributeError\u001b[0m                            Traceback (most recent call last)",
      "\u001b[0;31mAttributeError\u001b[0m: _ARRAY_API not found"
     ]
    }
   ],
   "source": [
    "import requests\n",
    "import pandas as pd\n",
    "from datetime import datetime\n",
    "import pytz\n",
    "from prefect import flow, task # Prefect flow and task decorators\n",
    "\n",
    "@task\n",
    "def get_weather_data(province_context={'province':None, 'lat':None, 'lon':None}):\n",
    "    # API endpoint and parameters\n",
    "    WEATHER_ENDPOINT = \"https://api.openweathermap.org/data/2.5/weather\"\n",
    "    API_KEY = \"70e208d9d8ba1534136297fb1f3fe396\"  # Replace with your actual API key\n",
    "    province=province_context['province']\n",
    "    \n",
    "    params = {\n",
    "        \"lat\": province_context['lat'],\n",
    "        \"lon\": province_context['lon'],\n",
    "        \"appid\": API_KEY,\n",
    "        \"units\": \"metric\"\n",
    "    }\n",
    "    try:\n",
    "        # Make API request\n",
    "        response = requests.get(WEATHER_ENDPOINT, params=params)\n",
    "        response.raise_for_status()  # Raise an exception for bad status codes\n",
    "        data = response.json()\n",
    "        \n",
    "        # Convert timestamp to datetime\n",
    "        # created_at = datetime.fromtimestamp(data['dt'])\n",
    "\n",
    "        dt = datetime.now()\n",
    "        thai_tz = pytz.timezone('Asia/Bangkok')\n",
    "        created_at = dt.replace(tzinfo=thai_tz)\n",
    "\n",
    "\n",
    "        timestamp = datetime.now()\n",
    "        \n",
    "        # Create dictionary with required fields\n",
    "        weather_dict = {\n",
    "            'timestamp': timestamp,\n",
    "            'year': timestamp.year,\n",
    "            'month': timestamp.month,\n",
    "            'day': timestamp.day,\n",
    "            'hour': timestamp.hour,\n",
    "            'minute': timestamp.minute,\n",
    "            'created_at': created_at,\n",
    "            'requested_province':province,\n",
    "            'location': data['name'],\n",
    "            'weather_main': data['weather'][0]['main'],\n",
    "            'weather_description': data['weather'][0]['description'],\n",
    "            'main.temp': data['main']['temp']\n",
    "        }\n",
    "        \n",
    "        # Create DataFrame\n",
    "        # df = pd.DataFrame([weather_dict])\n",
    "        \n",
    "        # return df\n",
    "        return weather_dict\n",
    "\n",
    "    \n",
    "    except requests.exceptions.RequestException as e:\n",
    "        print(f\"Error fetching data: {e}\")\n",
    "        return None\n",
    "    except KeyError as e:\n",
    "        print(f\"Error processing data: Missing key {e}\")\n",
    "        return None"
   ]
  },
  {
   "cell_type": "code",
   "execution_count": 2,
   "id": "194b4b84-fdbf-47ed-8477-20687050d55b",
   "metadata": {},
   "outputs": [
    {
     "data": {
      "text/html": [
       "<pre style=\"white-space:pre;overflow-x:auto;line-height:normal;font-family:Menlo,'DejaVu Sans Mono',consolas,'Courier New',monospace\">09:34:17.609 | <span style=\"color: #008080; text-decoration-color: #008080\">INFO</span>    | Task run 'get_weather_data' - Created task run 'get_weather_data' for task 'get_weather_data'\n",
       "</pre>\n"
      ],
      "text/plain": [
       "09:34:17.609 | \u001b[36mINFO\u001b[0m    | Task run 'get_weather_data' - Created task run 'get_weather_data' for task 'get_weather_data'\n"
      ]
     },
     "metadata": {},
     "output_type": "display_data"
    },
    {
     "data": {
      "text/html": [
       "<pre style=\"white-space:pre;overflow-x:auto;line-height:normal;font-family:Menlo,'DejaVu Sans Mono',consolas,'Courier New',monospace\">09:34:18.085 | <span style=\"color: #008080; text-decoration-color: #008080\">INFO</span>    | Task run 'get_weather_data' - Finished in state <span style=\"color: #008000; text-decoration-color: #008000\">Completed</span>()\n",
       "</pre>\n"
      ],
      "text/plain": [
       "09:34:18.085 | \u001b[36mINFO\u001b[0m    | Task run 'get_weather_data' - Finished in state \u001b[32mCompleted\u001b[0m()\n"
      ]
     },
     "metadata": {},
     "output_type": "display_data"
    },
    {
     "data": {
      "text/plain": [
       "{'timestamp': datetime.datetime(2025, 4, 10, 9, 34, 18, 60582),\n",
       " 'year': 2025,\n",
       " 'month': 4,\n",
       " 'day': 10,\n",
       " 'hour': 9,\n",
       " 'minute': 34,\n",
       " 'created_at': datetime.datetime(2025, 4, 10, 9, 34, 18, 42276, tzinfo=<DstTzInfo 'Asia/Bangkok' LMT+6:42:00 STD>),\n",
       " 'requested_province': 'Pathum Thani',\n",
       " 'location': 'Pathum Thani',\n",
       " 'weather_main': 'Clouds',\n",
       " 'weather_description': 'overcast clouds',\n",
       " 'main.temp': 35.39}"
      ]
     },
     "execution_count": 2,
     "metadata": {},
     "output_type": "execute_result"
    }
   ],
   "source": [
    "provinces = {\n",
    "    \"Pathum Thani\":{\n",
    "        \"lat\": 14.0134,\n",
    "        \"lon\": 100.5304\n",
    "    },\n",
    "    \"Bangkok\":{\n",
    "            \"lat\": 13.7367,\n",
    "            \"lon\": 100.5232\n",
    "    },\n",
    "    \"Chiang Mai\":{\n",
    "        \"lat\": 18.7883,\n",
    "        \"lon\": 98.9853\n",
    "    },\n",
    "    \"Phuket\":{\n",
    "        \"lat\": 7.9519,\n",
    "        \"lon\": 98.3381\n",
    "    }\n",
    "}\n",
    "province='Pathum Thani'\n",
    "province_context={\n",
    "    'province':province,\n",
    "    'lat':provinces[province]['lat'],\n",
    "    'lon':provinces[province]['lon'],\n",
    "}\n",
    "get_weather_data(province_context)"
   ]
  },
  {
   "cell_type": "code",
   "execution_count": 3,
   "id": "6d4beaf7-b9dd-469e-84df-a6e6e2cb18f7",
   "metadata": {},
   "outputs": [
    {
     "data": {
      "text/html": [
       "<pre style=\"white-space:pre;overflow-x:auto;line-height:normal;font-family:Menlo,'DejaVu Sans Mono',consolas,'Courier New',monospace\">09:34:18.317 | <span style=\"color: #008080; text-decoration-color: #008080\">INFO</span>    | prefect.engine - Created flow run<span style=\"color: #800080; text-decoration-color: #800080\"> 'laughing-basilisk'</span> for flow<span style=\"color: #800080; text-decoration-color: #800080; font-weight: bold\"> 'main-flow'</span>\n",
       "</pre>\n"
      ],
      "text/plain": [
       "09:34:18.317 | \u001b[36mINFO\u001b[0m    | prefect.engine - Created flow run\u001b[35m 'laughing-basilisk'\u001b[0m for flow\u001b[1;35m 'main-flow'\u001b[0m\n"
      ]
     },
     "metadata": {},
     "output_type": "display_data"
    },
    {
     "data": {
      "text/html": [
       "<pre style=\"white-space:pre;overflow-x:auto;line-height:normal;font-family:Menlo,'DejaVu Sans Mono',consolas,'Courier New',monospace\">09:34:18.320 | <span style=\"color: #008080; text-decoration-color: #008080\">INFO</span>    | prefect.engine - View at <span style=\"color: #0000ff; text-decoration-color: #0000ff\">http://prefect-server:4200/runs/flow-run/3608d40b-1e4e-4eef-8f4d-8207ee89e00a</span>\n",
       "</pre>\n"
      ],
      "text/plain": [
       "09:34:18.320 | \u001b[36mINFO\u001b[0m    | prefect.engine - View at \u001b[94mhttp://prefect-server:4200/runs/flow-run/3608d40b-1e4e-4eef-8f4d-8207ee89e00a\u001b[0m\n"
      ]
     },
     "metadata": {},
     "output_type": "display_data"
    },
    {
     "data": {
      "text/html": [
       "<pre style=\"white-space:pre;overflow-x:auto;line-height:normal;font-family:Menlo,'DejaVu Sans Mono',consolas,'Courier New',monospace\">09:34:18.580 | <span style=\"color: #008080; text-decoration-color: #008080\">INFO</span>    | Task run 'get_weather_data-0' - Created task run 'get_weather_data-0' for task 'get_weather_data'\n",
       "</pre>\n"
      ],
      "text/plain": [
       "09:34:18.580 | \u001b[36mINFO\u001b[0m    | Task run 'get_weather_data-0' - Created task run 'get_weather_data-0' for task 'get_weather_data'\n"
      ]
     },
     "metadata": {},
     "output_type": "display_data"
    },
    {
     "data": {
      "text/html": [
       "<pre style=\"white-space:pre;overflow-x:auto;line-height:normal;font-family:Menlo,'DejaVu Sans Mono',consolas,'Courier New',monospace\">09:34:19.036 | <span style=\"color: #008080; text-decoration-color: #008080\">INFO</span>    | Task run 'get_weather_data-0' - Finished in state <span style=\"color: #008000; text-decoration-color: #008000\">Completed</span>()\n",
       "</pre>\n"
      ],
      "text/plain": [
       "09:34:19.036 | \u001b[36mINFO\u001b[0m    | Task run 'get_weather_data-0' - Finished in state \u001b[32mCompleted\u001b[0m()\n"
      ]
     },
     "metadata": {},
     "output_type": "display_data"
    },
    {
     "data": {
      "text/html": [
       "<pre style=\"white-space:pre;overflow-x:auto;line-height:normal;font-family:Menlo,'DejaVu Sans Mono',consolas,'Courier New',monospace\">09:34:19.222 | <span style=\"color: #008080; text-decoration-color: #008080\">INFO</span>    | Task run 'get_weather_data-1' - Created task run 'get_weather_data-1' for task 'get_weather_data'\n",
       "</pre>\n"
      ],
      "text/plain": [
       "09:34:19.222 | \u001b[36mINFO\u001b[0m    | Task run 'get_weather_data-1' - Created task run 'get_weather_data-1' for task 'get_weather_data'\n"
      ]
     },
     "metadata": {},
     "output_type": "display_data"
    },
    {
     "data": {
      "text/html": [
       "<pre style=\"white-space:pre;overflow-x:auto;line-height:normal;font-family:Menlo,'DejaVu Sans Mono',consolas,'Courier New',monospace\">09:34:19.654 | <span style=\"color: #008080; text-decoration-color: #008080\">INFO</span>    | Task run 'get_weather_data-1' - Finished in state <span style=\"color: #008000; text-decoration-color: #008000\">Completed</span>()\n",
       "</pre>\n"
      ],
      "text/plain": [
       "09:34:19.654 | \u001b[36mINFO\u001b[0m    | Task run 'get_weather_data-1' - Finished in state \u001b[32mCompleted\u001b[0m()\n"
      ]
     },
     "metadata": {},
     "output_type": "display_data"
    },
    {
     "data": {
      "text/html": [
       "<pre style=\"white-space:pre;overflow-x:auto;line-height:normal;font-family:Menlo,'DejaVu Sans Mono',consolas,'Courier New',monospace\">09:34:19.838 | <span style=\"color: #008080; text-decoration-color: #008080\">INFO</span>    | Task run 'get_weather_data-2' - Created task run 'get_weather_data-2' for task 'get_weather_data'\n",
       "</pre>\n"
      ],
      "text/plain": [
       "09:34:19.838 | \u001b[36mINFO\u001b[0m    | Task run 'get_weather_data-2' - Created task run 'get_weather_data-2' for task 'get_weather_data'\n"
      ]
     },
     "metadata": {},
     "output_type": "display_data"
    },
    {
     "data": {
      "text/html": [
       "<pre style=\"white-space:pre;overflow-x:auto;line-height:normal;font-family:Menlo,'DejaVu Sans Mono',consolas,'Courier New',monospace\">09:34:20.267 | <span style=\"color: #008080; text-decoration-color: #008080\">INFO</span>    | Task run 'get_weather_data-2' - Finished in state <span style=\"color: #008000; text-decoration-color: #008000\">Completed</span>()\n",
       "</pre>\n"
      ],
      "text/plain": [
       "09:34:20.267 | \u001b[36mINFO\u001b[0m    | Task run 'get_weather_data-2' - Finished in state \u001b[32mCompleted\u001b[0m()\n"
      ]
     },
     "metadata": {},
     "output_type": "display_data"
    },
    {
     "data": {
      "text/html": [
       "<pre style=\"white-space:pre;overflow-x:auto;line-height:normal;font-family:Menlo,'DejaVu Sans Mono',consolas,'Courier New',monospace\">09:34:20.446 | <span style=\"color: #008080; text-decoration-color: #008080\">INFO</span>    | Task run 'get_weather_data-3' - Created task run 'get_weather_data-3' for task 'get_weather_data'\n",
       "</pre>\n"
      ],
      "text/plain": [
       "09:34:20.446 | \u001b[36mINFO\u001b[0m    | Task run 'get_weather_data-3' - Created task run 'get_weather_data-3' for task 'get_weather_data'\n"
      ]
     },
     "metadata": {},
     "output_type": "display_data"
    },
    {
     "data": {
      "text/html": [
       "<pre style=\"white-space:pre;overflow-x:auto;line-height:normal;font-family:Menlo,'DejaVu Sans Mono',consolas,'Courier New',monospace\">09:34:20.947 | <span style=\"color: #008080; text-decoration-color: #008080\">INFO</span>    | Task run 'get_weather_data-3' - Finished in state <span style=\"color: #008000; text-decoration-color: #008000\">Completed</span>()\n",
       "</pre>\n"
      ],
      "text/plain": [
       "09:34:20.947 | \u001b[36mINFO\u001b[0m    | Task run 'get_weather_data-3' - Finished in state \u001b[32mCompleted\u001b[0m()\n"
      ]
     },
     "metadata": {},
     "output_type": "display_data"
    },
    {
     "data": {
      "text/html": [
       "<pre style=\"white-space:pre;overflow-x:auto;line-height:normal;font-family:Menlo,'DejaVu Sans Mono',consolas,'Courier New',monospace\">09:34:21.451 | <span style=\"color: #008080; text-decoration-color: #008080\">INFO</span>    | Flow run<span style=\"color: #800080; text-decoration-color: #800080\"> 'laughing-basilisk'</span> - Finished in state <span style=\"color: #008000; text-decoration-color: #008000\">Completed</span>()\n",
       "</pre>\n"
      ],
      "text/plain": [
       "09:34:21.451 | \u001b[36mINFO\u001b[0m    | Flow run\u001b[35m 'laughing-basilisk'\u001b[0m - Finished in state \u001b[32mCompleted\u001b[0m()\n"
      ]
     },
     "metadata": {},
     "output_type": "display_data"
    }
   ],
   "source": [
    "@flow(name=\"main-flow\", log_prints=True)\n",
    "def main_flow():\n",
    "    provinces = {\n",
    "    \"Pathum Thani\":{\n",
    "        \"lat\": 14.0134,\n",
    "        \"lon\": 100.5304\n",
    "    },\n",
    "    \"Bangkok\":{\n",
    "            \"lat\": 13.7367,\n",
    "            \"lon\": 100.5232\n",
    "    },\n",
    "    \"Chiang Mai\":{\n",
    "        \"lat\": 18.7883,\n",
    "        \"lon\": 98.9853\n",
    "    },\n",
    "    \"Phuket\":{\n",
    "        \"lat\": 7.9519,\n",
    "        \"lon\": 98.3381\n",
    "    }\n",
    "}\n",
    "    # for province in provinces.keys:\n",
    "    #     province_context={\n",
    "    #         'province':province,\n",
    "    #         'lat':provinces[province]['lat'],\n",
    "    #         'lon':provinces[province]['lon'],\n",
    "    #     }\n",
    "    #     get_weather_data(province_context)\n",
    "        \n",
    "    df=pd.DataFrame([get_weather_data(\n",
    "        {\n",
    "            'province':province,\n",
    "            'lat':provinces[province]['lat'],\n",
    "            'lon':provinces[province]['lon'],\n",
    "        }\n",
    "    ) for province in list(provinces.keys())])\n",
    "    \n",
    "        # lakeFS credentials from your docker-compose.yml\n",
    "    ACCESS_KEY = \"access_key\"\n",
    "    SECRET_KEY = \"secret_key\"\n",
    "    \n",
    "    # lakeFS endpoint (running locally)\n",
    "    lakefs_endpoint = \"http://lakefs-dev:8000/\"\n",
    "    \n",
    "    # lakeFS repository, branch, and file path\n",
    "    repo = \"weather\"\n",
    "    branch = \"main\"\n",
    "    path = \"weather.parquet\"\n",
    "    \n",
    "    # Construct the full lakeFS S3-compatible path\n",
    "    lakefs_s3_path = f\"s3a://{repo}/{branch}/{path}\"\n",
    "    \n",
    "    # Configure storage_options for lakeFS (S3-compatible)\n",
    "    storage_options = {\n",
    "        \"key\": ACCESS_KEY,\n",
    "        \"secret\": SECRET_KEY,\n",
    "        \"client_kwargs\": {\n",
    "            \"endpoint_url\": lakefs_endpoint\n",
    "        }\n",
    "    }\n",
    "    df.to_parquet(\n",
    "        lakefs_s3_path,\n",
    "        storage_options=storage_options,\n",
    "        partition_cols=['year','month','day','hour'],\n",
    "        \n",
    "    )\n",
    "main_flow()"
   ]
  },
  {
   "cell_type": "code",
   "execution_count": null,
   "id": "8121fe21-9299-4510-910e-643c9cb78a28",
   "metadata": {},
   "outputs": [],
   "source": []
  }
 ],
 "metadata": {
  "kernelspec": {
   "display_name": "base",
   "language": "python",
   "name": "python3"
  },
  "language_info": {
   "codemirror_mode": {
    "name": "ipython",
    "version": 3
   },
   "file_extension": ".py",
   "mimetype": "text/x-python",
   "name": "python",
   "nbconvert_exporter": "python",
   "pygments_lexer": "ipython3",
   "version": "3.9.13"
  }
 },
 "nbformat": 4,
 "nbformat_minor": 5
}
