{
 "cells": [
  {
   "cell_type": "markdown",
   "id": "2b537ee8-fc9a-494a-9a4f-861eb7083835",
   "metadata": {},
   "source": [
    "# plan\n",
    "- define province names\n",
    "- create entrypoint for main flow\n",
    "- create subtasks\n",
    "  - get api results and parse to dataframe\n",
    "  - write the dataframe to lakefs\n"
   ]
  },
  {
   "cell_type": "code",
   "execution_count": 27,
   "id": "9bab0920-b399-42de-ba7f-074aeb1ee475",
   "metadata": {},
   "outputs": [],
   "source": [
    "import requests\n",
    "import pandas as pd\n",
    "from datetime import datetime\n",
    "import pytz\n",
    "\n",
    "# API endpoint and parameters\n",
    "WEATHER_ENDPOINT = \"https://api.openweathermap.org/data/2.5/weather\"\n",
    "API_KEY = \"70e208d9d8ba1534136297fb1f3fe396\"  # ← เปลี่ยนเป็นของคุณเอง\n",
    "\n",
    "locations = {\n",
    "    \"Satitram Alumni\": {\"lat\": 13.754174, \"lon\": 100.615676},\n",
    "}\n",
    "\n",
    "def get_weather_data(location_name='Satitram Alumni'):\n",
    "    lat = locations[location_name]['lat']\n",
    "    lon = locations[location_name]['lon']\n",
    "\n",
    "    params = {\n",
    "        \"lat\": lat,\n",
    "        \"lon\": lon,\n",
    "        \"appid\": API_KEY,\n",
    "        \"units\": \"metric\",\n",
    "        \"lang\": \"th\"\n",
    "    }\n",
    "\n",
    "    try:\n",
    "        response = requests.get(WEATHER_ENDPOINT, params=params)\n",
    "        response.raise_for_status()\n",
    "        data = response.json()\n",
    "\n",
    "        thai_tz = pytz.timezone('Asia/Bangkok')\n",
    "        timestamp = datetime.now(thai_tz)\n",
    "        created_at = datetime.fromtimestamp(data['dt'], tz=thai_tz)\n",
    "\n",
    "        weather_dict = {\n",
    "            'timestamp': timestamp,\n",
    "            'year': timestamp.year,\n",
    "            'month': timestamp.month,\n",
    "            'day': timestamp.day,\n",
    "            'hour': timestamp.hour,\n",
    "            'minute': timestamp.minute,\n",
    "            'created_at': created_at,\n",
    "            'location': location_name,\n",
    "            'temperature': data['main']['temp'],\n",
    "            'feels_like': data['main']['feels_like'],\n",
    "            'humidity': data['main']['humidity'],\n",
    "            'pressure': data['main']['pressure'],\n",
    "            'wind_speed': data['wind']['speed'],\n",
    "            'visibility': data.get('visibility'),\n",
    "            'weather_main': data['weather'][0]['main'],\n",
    "            'weather_description': data['weather'][0]['description']\n",
    "        }\n",
    "\n",
    "        return weather_dict\n",
    "\n",
    "    except requests.exceptions.RequestException as e:\n",
    "        print(f\"Error fetching data: {e}\")\n",
    "        return None\n",
    "    except KeyError as e:\n",
    "        print(f\"Error processing data: Missing key {e}\")\n",
    "        return None"
   ]
  },
  {
   "cell_type": "code",
   "execution_count": 28,
   "id": "194b4b84-fdbf-47ed-8477-20687050d55b",
   "metadata": {},
   "outputs": [
    {
     "data": {
      "text/plain": [
       "{'timestamp': datetime.datetime(2025, 5, 9, 16, 1, 8, 102102, tzinfo=<DstTzInfo 'Asia/Bangkok' +07+7:00:00 STD>),\n",
       " 'year': 2025,\n",
       " 'month': 5,\n",
       " 'day': 9,\n",
       " 'hour': 16,\n",
       " 'minute': 1,\n",
       " 'created_at': datetime.datetime(2025, 5, 9, 15, 59, 31, tzinfo=<DstTzInfo 'Asia/Bangkok' +07+7:00:00 STD>),\n",
       " 'location': 'Satitram Alumni',\n",
       " 'temperature': 35.3,\n",
       " 'feels_like': 42.3,\n",
       " 'humidity': 58,\n",
       " 'pressure': 1003,\n",
       " 'wind_speed': 4.12,\n",
       " 'visibility': 10000,\n",
       " 'weather_main': 'Thunderstorm',\n",
       " 'weather_description': 'พายุฟ้าคะนอง'}"
      ]
     },
     "execution_count": 28,
     "metadata": {},
     "output_type": "execute_result"
    }
   ],
   "source": [
    "locations = {\n",
    "    \"Satitram Alumni\": {\n",
    "        \"lat\": 13.752916,\n",
    "        \"lon\": 100.618616\n",
    "    }\n",
    "}\n",
    "\n",
    "location = \"Satitram Alumni\"\n",
    "location_context = {\n",
    "    'location': location,\n",
    "    'lat': locations[location]['lat'],\n",
    "    'lon': locations[location]['lon'],\n",
    "}\n",
    "\n",
    "get_weather_data(\"Satitram Alumni\")"
   ]
  },
  {
   "cell_type": "code",
   "execution_count": 26,
   "id": "6d4beaf7-b9dd-469e-84df-a6e6e2cb18f7",
   "metadata": {},
   "outputs": [
    {
     "data": {
      "text/html": [
       "<pre style=\"white-space:pre;overflow-x:auto;line-height:normal;font-family:Menlo,'DejaVu Sans Mono',consolas,'Courier New',monospace\">08:42:54.238 | <span style=\"color: #008080; text-decoration-color: #008080\">INFO</span>    | prefect.engine - Created flow run<span style=\"color: #800080; text-decoration-color: #800080\"> 'capable-quoll'</span> for flow<span style=\"color: #800080; text-decoration-color: #800080; font-weight: bold\"> 'main-flow'</span>\n",
       "</pre>\n"
      ],
      "text/plain": [
       "08:42:54.238 | \u001b[36mINFO\u001b[0m    | prefect.engine - Created flow run\u001b[35m 'capable-quoll'\u001b[0m for flow\u001b[1;35m 'main-flow'\u001b[0m\n"
      ]
     },
     "metadata": {},
     "output_type": "display_data"
    },
    {
     "data": {
      "text/html": [
       "<pre style=\"white-space:pre;overflow-x:auto;line-height:normal;font-family:Menlo,'DejaVu Sans Mono',consolas,'Courier New',monospace\">08:42:54.241 | <span style=\"color: #008080; text-decoration-color: #008080\">INFO</span>    | prefect.engine - View at <span style=\"color: #0000ff; text-decoration-color: #0000ff\">http://prefect-server:4200/runs/flow-run/a504ba93-b778-4486-b307-74b0c734276d</span>\n",
       "</pre>\n"
      ],
      "text/plain": [
       "08:42:54.241 | \u001b[36mINFO\u001b[0m    | prefect.engine - View at \u001b[94mhttp://prefect-server:4200/runs/flow-run/a504ba93-b778-4486-b307-74b0c734276d\u001b[0m\n"
      ]
     },
     "metadata": {},
     "output_type": "display_data"
    },
    {
     "data": {
      "text/html": [
       "<pre style=\"white-space:pre;overflow-x:auto;line-height:normal;font-family:Menlo,'DejaVu Sans Mono',consolas,'Courier New',monospace\">08:42:54.346 | <span style=\"color: #008080; text-decoration-color: #008080\">INFO</span>    | Flow run<span style=\"color: #800080; text-decoration-color: #800080\"> 'capable-quoll'</span> - Finished in state <span style=\"color: #008000; text-decoration-color: #008000\">Completed</span>()\n",
       "</pre>\n"
      ],
      "text/plain": [
       "08:42:54.346 | \u001b[36mINFO\u001b[0m    | Flow run\u001b[35m 'capable-quoll'\u001b[0m - Finished in state \u001b[32mCompleted\u001b[0m()\n"
      ]
     },
     "metadata": {},
     "output_type": "display_data"
    }
   ],
   "source": [
    "from prefect import flow\n",
    "import pandas as pd\n",
    "from datetime import datetime\n",
    "\n",
    "# Define the locations dictionary\n",
    "locations = {\n",
    "    \"Satitram Alumni\": {\n",
    "        \"lat\": 13.752916,\n",
    "        \"lon\": 100.618616\n",
    "    }\n",
    "}\n",
    "\n",
    "# Define the function that fetches weather data\n",
    "def get_weather_data(location_name):\n",
    "    lat = locations[location_name]['lat']\n",
    "    lon = locations[location_name]['lon']\n",
    "\n",
    "    # Your API call logic here (Make sure the API is properly set up)\n",
    "\n",
    "    # Just for illustration, let's return a mock weather data dict\n",
    "    return {\n",
    "        \"location\": location_name,\n",
    "        \"lat\": lat,\n",
    "        \"lon\": lon,\n",
    "        \"temperature\": 30,  # Mock data\n",
    "        \"humidity\": 70,     # Mock data\n",
    "        \"timestamp\": datetime.now()  # Add timestamp for partitioning\n",
    "    }\n",
    "\n",
    "@flow(name=\"main-flow\", log_prints=True)\n",
    "def main_flow():\n",
    "    # Fetch the weather data for Satitram Alumni only\n",
    "    weather_data = get_weather_data('Satitram Alumni')\n",
    "\n",
    "    # Convert to DataFrame\n",
    "    df = pd.DataFrame([weather_data])\n",
    "\n",
    "    # Add partition columns from the timestamp\n",
    "    df['year'] = df['timestamp'].dt.year\n",
    "    df['month'] = df['timestamp'].dt.month\n",
    "    df['day'] = df['timestamp'].dt.day\n",
    "    df['hour'] = df['timestamp'].dt.hour\n",
    "\n",
    "    # lakeFS credentials from your docker-compose.yml\n",
    "    ACCESS_KEY = \"access_key\"\n",
    "    SECRET_KEY = \"secret_key\"\n",
    "    \n",
    "    # lakeFS endpoint (running locally)\n",
    "    lakefs_endpoint = \"http://lakefs-dev:8000/\"\n",
    "    \n",
    "    # lakeFS repository, branch, and file path\n",
    "    repo = \"weather\"\n",
    "    branch = \"main\"\n",
    "    path = \"weather.parquet\"\n",
    "    \n",
    "    # Construct the full lakeFS S3-compatible path\n",
    "    lakefs_s3_path = f\"s3a://{repo}/{branch}/{path}\"\n",
    "    \n",
    "    # Configure storage_options for lakeFS (S3-compatible)\n",
    "    storage_options = {\n",
    "        \"key\": ACCESS_KEY,\n",
    "        \"secret\": SECRET_KEY,\n",
    "        \"client_kwargs\": {\n",
    "            \"endpoint_url\": lakefs_endpoint\n",
    "        }\n",
    "    }\n",
    "    \n",
    "    # Save to lakeFS\n",
    "    df.to_parquet(\n",
    "        lakefs_s3_path,\n",
    "        storage_options=storage_options,\n",
    "        partition_cols=['year', 'month', 'day', 'hour'],\n",
    "    )\n",
    "\n",
    "# Run the main flow\n",
    "main_flow()"
   ]
  },
  {
   "cell_type": "code",
   "execution_count": null,
   "id": "8121fe21-9299-4510-910e-643c9cb78a28",
   "metadata": {},
   "outputs": [],
   "source": []
  }
 ],
 "metadata": {
  "kernelspec": {
   "display_name": "Python 3 (ipykernel)",
   "language": "python",
   "name": "python3"
  },
  "language_info": {
   "codemirror_mode": {
    "name": "ipython",
    "version": 3
   },
   "file_extension": ".py",
   "mimetype": "text/x-python",
   "name": "python",
   "nbconvert_exporter": "python",
   "pygments_lexer": "ipython3",
   "version": "3.11.9"
  }
 },
 "nbformat": 4,
 "nbformat_minor": 5
}
