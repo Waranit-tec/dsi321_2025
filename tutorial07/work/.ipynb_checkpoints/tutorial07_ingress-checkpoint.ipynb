{
 "cells": [
  {
   "cell_type": "markdown",
   "id": "2b537ee8-fc9a-494a-9a4f-861eb7083835",
   "metadata": {},
   "source": [
    "# plan\n",
    "- define province names\n",
    "- create entrypoint for main flow\n",
    "- create subtasks\n",
    "  - get api results and parse to dataframe\n",
    "  - write the dataframe to lakefs\n"
   ]
  },
  {
   "cell_type": "code",
   "execution_count": 35,
   "id": "3878affd-4947-4286-bd00-7dad812acc74",
   "metadata": {},
   "outputs": [],
   "source": [
    "import requests\n",
    "import pandas as pd\n",
    "from datetime import datetime\n",
    "import pytz\n",
    "from prefect import flow, task # Prefect flow and task decorators\n",
    "\n",
    "@task\n",
    "def get_weather_data(province_context={'province':None, 'lat':None, 'lon':None}):\n",
    "    # API endpoint and parameters\n",
    "    WEATHER_ENDPOINT = \"https://api.openweathermap.org/data/2.5/weather\"\n",
    "    API_KEY = \"70e208d9d8ba1534136297fb1f3fe396\"  # Replace with your actual API key\n",
    "    province=province_context['province']\n",
    "    \n",
    "    params = {\n",
    "        \"lat\": province_context['lat'],\n",
    "        \"lon\": province_context['lon'],\n",
    "        \"appid\": API_KEY,\n",
    "        \"units\": \"metric\",\n",
    "        \"lang\": \"th\"\n",
    "    }\n",
    "    try:\n",
    "        # Make API request\n",
    "        response = requests.get(WEATHER_ENDPOINT, params=params)\n",
    "        response.raise_for_status()  # Raise an exception for bad status codes\n",
    "        data = response.json()\n",
    "        \n",
    "        # Convert timestamp to datetime\n",
    "        # created_at = datetime.fromtimestamp(data['dt'])\n",
    "\n",
    "        dt = datetime.now()\n",
    "        thai_tz = pytz.timezone('Asia/Bangkok')\n",
    "        created_at = dt.replace(tzinfo=thai_tz)\n",
    "\n",
    "\n",
    "        timestamp = datetime.now()\n",
    "        \n",
    "        # Create dictionary with required fields\n",
    "        weather_dict = {\n",
    "            'timestamp': timestamp,\n",
    "            'year': timestamp.year,\n",
    "            'month': timestamp.month,\n",
    "            'day': timestamp.day,\n",
    "            'hour': timestamp.hour,\n",
    "            'minute': timestamp.minute,\n",
    "            'created_at': created_at,\n",
    "            'location': location_name,\n",
    "            'temperature': data['main']['temp'],\n",
    "            'feels_like': data['main']['feels_like'],\n",
    "            'humidity': data['main']['humidity'],\n",
    "            'pressure': data['main']['pressure'],\n",
    "            'wind_speed': data['wind']['speed'],\n",
    "            'visibility': data.get('visibility'),\n",
    "            'weather_main': data['weather'][0]['main'],\n",
    "            'weather_description': data['weather'][0]['description']\n",
    "        }\n",
    "        \n",
    "        # Create DataFrame\n",
    "        # df = pd.DataFrame([weather_dict])\n",
    "        \n",
    "        # return df\n",
    "        return weather_dict\n",
    "\n",
    "    \n",
    "    except requests.exceptions.RequestException as e:\n",
    "        print(f\"Error fetching data: {e}\")\n",
    "        return None\n",
    "    except KeyError as e:\n",
    "        print(f\"Error processing data: Missing key {e}\")\n",
    "        return None"
   ]
  },
  {
   "cell_type": "code",
   "execution_count": 36,
   "id": "20772d02-d54a-4870-9a1a-b725c177e267",
   "metadata": {},
   "outputs": [
    {
     "data": {
      "text/html": [
       "<pre style=\"white-space:pre;overflow-x:auto;line-height:normal;font-family:Menlo,'DejaVu Sans Mono',consolas,'Courier New',monospace\">07:09:55.671 | <span style=\"color: #008080; text-decoration-color: #008080\">INFO</span>    | Task run 'get_weather_data' - Created task run 'get_weather_data' for task 'get_weather_data'\n",
       "</pre>\n"
      ],
      "text/plain": [
       "07:09:55.671 | \u001b[36mINFO\u001b[0m    | Task run 'get_weather_data' - Created task run 'get_weather_data' for task 'get_weather_data'\n"
      ]
     },
     "metadata": {},
     "output_type": "display_data"
    },
    {
     "data": {
      "text/html": [
       "<pre style=\"white-space:pre;overflow-x:auto;line-height:normal;font-family:Menlo,'DejaVu Sans Mono',consolas,'Courier New',monospace\">07:09:55.870 | <span style=\"color: #d70000; text-decoration-color: #d70000\">ERROR</span>   | Task run 'get_weather_data' - Task run failed with exception: NameError(\"name 'location_name' is not defined\") - Retries are exhausted\n",
       "Traceback (most recent call last):\n",
       "  File \"/usr/local/lib/python3.11/site-packages/prefect/task_engine.py\", line 790, in run_context\n",
       "    yield self\n",
       "  File \"/usr/local/lib/python3.11/site-packages/prefect/task_engine.py\", line 1393, in run_task_sync\n",
       "    engine.call_task_fn(txn)\n",
       "  File \"/usr/local/lib/python3.11/site-packages/prefect/task_engine.py\", line 818, in call_task_fn\n",
       "    result = call_with_parameters(self.task.fn, parameters)\n",
       "             ^^^^^^^^^^^^^^^^^^^^^^^^^^^^^^^^^^^^^^^^^^^^^^\n",
       "  File \"/usr/local/lib/python3.11/site-packages/prefect/utilities/callables.py\", line 208, in call_with_parameters\n",
       "    return fn(*args, **kwargs)\n",
       "           ^^^^^^^^^^^^^^^^^^^\n",
       "  File \"/tmp/ipykernel_181/3446200655.py\", line 46, in get_weather_data\n",
       "    'location': location_name,\n",
       "                ^^^^^^^^^^^^^\n",
       "NameError: name 'location_name' is not defined\n",
       "</pre>\n"
      ],
      "text/plain": [
       "07:09:55.870 | \u001b[38;5;160mERROR\u001b[0m   | Task run 'get_weather_data' - Task run failed with exception: NameError(\"name 'location_name' is not defined\") - Retries are exhausted\n",
       "Traceback (most recent call last):\n",
       "  File \"/usr/local/lib/python3.11/site-packages/prefect/task_engine.py\", line 790, in run_context\n",
       "    yield self\n",
       "  File \"/usr/local/lib/python3.11/site-packages/prefect/task_engine.py\", line 1393, in run_task_sync\n",
       "    engine.call_task_fn(txn)\n",
       "  File \"/usr/local/lib/python3.11/site-packages/prefect/task_engine.py\", line 818, in call_task_fn\n",
       "    result = call_with_parameters(self.task.fn, parameters)\n",
       "             ^^^^^^^^^^^^^^^^^^^^^^^^^^^^^^^^^^^^^^^^^^^^^^\n",
       "  File \"/usr/local/lib/python3.11/site-packages/prefect/utilities/callables.py\", line 208, in call_with_parameters\n",
       "    return fn(*args, **kwargs)\n",
       "           ^^^^^^^^^^^^^^^^^^^\n",
       "  File \"/tmp/ipykernel_181/3446200655.py\", line 46, in get_weather_data\n",
       "    'location': location_name,\n",
       "                ^^^^^^^^^^^^^\n",
       "NameError: name 'location_name' is not defined\n"
      ]
     },
     "metadata": {},
     "output_type": "display_data"
    },
    {
     "data": {
      "text/html": [
       "<pre style=\"white-space:pre;overflow-x:auto;line-height:normal;font-family:Menlo,'DejaVu Sans Mono',consolas,'Courier New',monospace\">07:09:55.891 | <span style=\"color: #d70000; text-decoration-color: #d70000\">ERROR</span>   | Task run 'get_weather_data' - Finished in state <span style=\"color: #d70000; text-decoration-color: #d70000\">Failed</span>(\"Task run encountered an exception NameError: name 'location_name' is not defined\")\n",
       "</pre>\n"
      ],
      "text/plain": [
       "07:09:55.891 | \u001b[38;5;160mERROR\u001b[0m   | Task run 'get_weather_data' - Finished in state \u001b[38;5;160mFailed\u001b[0m(\"Task run encountered an exception NameError: name 'location_name' is not defined\")\n"
      ]
     },
     "metadata": {},
     "output_type": "display_data"
    },
    {
     "ename": "NameError",
     "evalue": "name 'location_name' is not defined",
     "output_type": "error",
     "traceback": [
      "\u001b[31m---------------------------------------------------------------------------\u001b[39m",
      "\u001b[31mNameError\u001b[39m                                 Traceback (most recent call last)",
      "\u001b[36mCell\u001b[39m\u001b[36m \u001b[39m\u001b[32mIn[36]\u001b[39m\u001b[32m, line 89\u001b[39m\n\u001b[32m     83\u001b[39m province=\u001b[33m'\u001b[39m\u001b[33mSatitram Alumni\u001b[39m\u001b[33m'\u001b[39m\n\u001b[32m     84\u001b[39m province_context={\n\u001b[32m     85\u001b[39m     \u001b[33m'\u001b[39m\u001b[33mprovince\u001b[39m\u001b[33m'\u001b[39m:province,\n\u001b[32m     86\u001b[39m     \u001b[33m'\u001b[39m\u001b[33mlat\u001b[39m\u001b[33m'\u001b[39m:provinces[province][\u001b[33m'\u001b[39m\u001b[33mlat\u001b[39m\u001b[33m'\u001b[39m],\n\u001b[32m     87\u001b[39m     \u001b[33m'\u001b[39m\u001b[33mlon\u001b[39m\u001b[33m'\u001b[39m:provinces[province][\u001b[33m'\u001b[39m\u001b[33mlon\u001b[39m\u001b[33m'\u001b[39m],\n\u001b[32m     88\u001b[39m }\n\u001b[32m---> \u001b[39m\u001b[32m89\u001b[39m \u001b[43mget_weather_data\u001b[49m\u001b[43m(\u001b[49m\u001b[43mprovince_context\u001b[49m\u001b[43m)\u001b[49m\n",
      "\u001b[36mFile \u001b[39m\u001b[32m/usr/local/lib/python3.11/site-packages/prefect/tasks.py:990\u001b[39m, in \u001b[36mTask.__call__\u001b[39m\u001b[34m(self, return_state, wait_for, *args, **kwargs)\u001b[39m\n\u001b[32m    984\u001b[39m     \u001b[38;5;28;01mreturn\u001b[39;00m track_viz_task(\n\u001b[32m    985\u001b[39m         \u001b[38;5;28mself\u001b[39m.isasync, \u001b[38;5;28mself\u001b[39m.name, parameters, \u001b[38;5;28mself\u001b[39m.viz_return_value\n\u001b[32m    986\u001b[39m     )\n\u001b[32m    988\u001b[39m \u001b[38;5;28;01mfrom\u001b[39;00m \u001b[34;01mprefect\u001b[39;00m\u001b[34;01m.\u001b[39;00m\u001b[34;01mtask_engine\u001b[39;00m \u001b[38;5;28;01mimport\u001b[39;00m run_task\n\u001b[32m--> \u001b[39m\u001b[32m990\u001b[39m \u001b[38;5;28;01mreturn\u001b[39;00m \u001b[43mrun_task\u001b[49m\u001b[43m(\u001b[49m\n\u001b[32m    991\u001b[39m \u001b[43m    \u001b[49m\u001b[43mtask\u001b[49m\u001b[43m=\u001b[49m\u001b[38;5;28;43mself\u001b[39;49m\u001b[43m,\u001b[49m\n\u001b[32m    992\u001b[39m \u001b[43m    \u001b[49m\u001b[43mparameters\u001b[49m\u001b[43m=\u001b[49m\u001b[43mparameters\u001b[49m\u001b[43m,\u001b[49m\n\u001b[32m    993\u001b[39m \u001b[43m    \u001b[49m\u001b[43mwait_for\u001b[49m\u001b[43m=\u001b[49m\u001b[43mwait_for\u001b[49m\u001b[43m,\u001b[49m\n\u001b[32m    994\u001b[39m \u001b[43m    \u001b[49m\u001b[43mreturn_type\u001b[49m\u001b[43m=\u001b[49m\u001b[43mreturn_type\u001b[49m\u001b[43m,\u001b[49m\n\u001b[32m    995\u001b[39m \u001b[43m\u001b[49m\u001b[43m)\u001b[49m\n",
      "\u001b[36mFile \u001b[39m\u001b[32m/usr/local/lib/python3.11/site-packages/prefect/task_engine.py:1582\u001b[39m, in \u001b[36mrun_task\u001b[39m\u001b[34m(task, task_run_id, task_run, parameters, wait_for, return_type, dependencies, context)\u001b[39m\n\u001b[32m   1580\u001b[39m     \u001b[38;5;28;01mreturn\u001b[39;00m run_task_async(**kwargs)\n\u001b[32m   1581\u001b[39m \u001b[38;5;28;01melse\u001b[39;00m:\n\u001b[32m-> \u001b[39m\u001b[32m1582\u001b[39m     \u001b[38;5;28;01mreturn\u001b[39;00m \u001b[43mrun_task_sync\u001b[49m\u001b[43m(\u001b[49m\u001b[43m*\u001b[49m\u001b[43m*\u001b[49m\u001b[43mkwargs\u001b[49m\u001b[43m)\u001b[49m\n",
      "\u001b[36mFile \u001b[39m\u001b[32m/usr/local/lib/python3.11/site-packages/prefect/task_engine.py:1395\u001b[39m, in \u001b[36mrun_task_sync\u001b[39m\u001b[34m(task, task_run_id, task_run, parameters, wait_for, return_type, dependencies, context)\u001b[39m\n\u001b[32m   1392\u001b[39m         \u001b[38;5;28;01mwith\u001b[39;00m engine.run_context(), engine.transaction_context() \u001b[38;5;28;01mas\u001b[39;00m txn:\n\u001b[32m   1393\u001b[39m             engine.call_task_fn(txn)\n\u001b[32m-> \u001b[39m\u001b[32m1395\u001b[39m \u001b[38;5;28;01mreturn\u001b[39;00m engine.state \u001b[38;5;28;01mif\u001b[39;00m return_type == \u001b[33m\"\u001b[39m\u001b[33mstate\u001b[39m\u001b[33m\"\u001b[39m \u001b[38;5;28;01melse\u001b[39;00m \u001b[43mengine\u001b[49m\u001b[43m.\u001b[49m\u001b[43mresult\u001b[49m\u001b[43m(\u001b[49m\u001b[43m)\u001b[49m\n",
      "\u001b[36mFile \u001b[39m\u001b[32m/usr/local/lib/python3.11/site-packages/prefect/task_engine.py:456\u001b[39m, in \u001b[36mSyncTaskRunEngine.result\u001b[39m\u001b[34m(self, raise_on_failure)\u001b[39m\n\u001b[32m    453\u001b[39m \u001b[38;5;28;01mif\u001b[39;00m \u001b[38;5;28mself\u001b[39m._raised \u001b[38;5;129;01mis\u001b[39;00m \u001b[38;5;129;01mnot\u001b[39;00m NotSet:\n\u001b[32m    454\u001b[39m     \u001b[38;5;66;03m# if the task raised an exception, raise it\u001b[39;00m\n\u001b[32m    455\u001b[39m     \u001b[38;5;28;01mif\u001b[39;00m raise_on_failure:\n\u001b[32m--> \u001b[39m\u001b[32m456\u001b[39m         \u001b[38;5;28;01mraise\u001b[39;00m \u001b[38;5;28mself\u001b[39m._raised\n\u001b[32m    458\u001b[39m     \u001b[38;5;66;03m# otherwise, return the exception\u001b[39;00m\n\u001b[32m    459\u001b[39m     \u001b[38;5;28;01mreturn\u001b[39;00m \u001b[38;5;28mself\u001b[39m._raised\n",
      "\u001b[36mFile \u001b[39m\u001b[32m/usr/local/lib/python3.11/site-packages/prefect/task_engine.py:790\u001b[39m, in \u001b[36mSyncTaskRunEngine.run_context\u001b[39m\u001b[34m(self)\u001b[39m\n\u001b[32m    787\u001b[39m         \u001b[38;5;28;01mif\u001b[39;00m \u001b[38;5;28mself\u001b[39m.is_cancelled():\n\u001b[32m    788\u001b[39m             \u001b[38;5;28;01mraise\u001b[39;00m CancelledError(\u001b[33m\"\u001b[39m\u001b[33mTask run cancelled by the task runner\u001b[39m\u001b[33m\"\u001b[39m)\n\u001b[32m--> \u001b[39m\u001b[32m790\u001b[39m         \u001b[38;5;28;01myield\u001b[39;00m \u001b[38;5;28mself\u001b[39m\n\u001b[32m    791\u001b[39m \u001b[38;5;28;01mexcept\u001b[39;00m \u001b[38;5;167;01mTimeoutError\u001b[39;00m \u001b[38;5;28;01mas\u001b[39;00m exc:\n\u001b[32m    792\u001b[39m     \u001b[38;5;28mself\u001b[39m.handle_timeout(exc)\n",
      "\u001b[36mFile \u001b[39m\u001b[32m/usr/local/lib/python3.11/site-packages/prefect/task_engine.py:1393\u001b[39m, in \u001b[36mrun_task_sync\u001b[39m\u001b[34m(task, task_run_id, task_run, parameters, wait_for, return_type, dependencies, context)\u001b[39m\n\u001b[32m   1391\u001b[39m         run_coro_as_sync(engine.wait_until_ready())\n\u001b[32m   1392\u001b[39m         \u001b[38;5;28;01mwith\u001b[39;00m engine.run_context(), engine.transaction_context() \u001b[38;5;28;01mas\u001b[39;00m txn:\n\u001b[32m-> \u001b[39m\u001b[32m1393\u001b[39m             \u001b[43mengine\u001b[49m\u001b[43m.\u001b[49m\u001b[43mcall_task_fn\u001b[49m\u001b[43m(\u001b[49m\u001b[43mtxn\u001b[49m\u001b[43m)\u001b[49m\n\u001b[32m   1395\u001b[39m \u001b[38;5;28;01mreturn\u001b[39;00m engine.state \u001b[38;5;28;01mif\u001b[39;00m return_type == \u001b[33m\"\u001b[39m\u001b[33mstate\u001b[39m\u001b[33m\"\u001b[39m \u001b[38;5;28;01melse\u001b[39;00m engine.result()\n",
      "\u001b[36mFile \u001b[39m\u001b[32m/usr/local/lib/python3.11/site-packages/prefect/task_engine.py:818\u001b[39m, in \u001b[36mSyncTaskRunEngine.call_task_fn\u001b[39m\u001b[34m(self, transaction)\u001b[39m\n\u001b[32m    816\u001b[39m             result = call_with_parameters(\u001b[38;5;28mself\u001b[39m.task.fn, parameters)\n\u001b[32m    817\u001b[39m     \u001b[38;5;28;01melse\u001b[39;00m:\n\u001b[32m--> \u001b[39m\u001b[32m818\u001b[39m         result = \u001b[43mcall_with_parameters\u001b[49m\u001b[43m(\u001b[49m\u001b[38;5;28;43mself\u001b[39;49m\u001b[43m.\u001b[49m\u001b[43mtask\u001b[49m\u001b[43m.\u001b[49m\u001b[43mfn\u001b[49m\u001b[43m,\u001b[49m\u001b[43m \u001b[49m\u001b[43mparameters\u001b[49m\u001b[43m)\u001b[49m\n\u001b[32m    819\u001b[39m \u001b[38;5;28mself\u001b[39m.handle_success(result, transaction=transaction)\n\u001b[32m    820\u001b[39m \u001b[38;5;28;01mreturn\u001b[39;00m result\n",
      "\u001b[36mFile \u001b[39m\u001b[32m/usr/local/lib/python3.11/site-packages/prefect/utilities/callables.py:208\u001b[39m, in \u001b[36mcall_with_parameters\u001b[39m\u001b[34m(fn, parameters)\u001b[39m\n\u001b[32m    200\u001b[39m \u001b[38;5;250m\u001b[39m\u001b[33;03m\"\"\"\u001b[39;00m\n\u001b[32m    201\u001b[39m \u001b[33;03mCall a function with parameters extracted with `get_call_parameters`\u001b[39;00m\n\u001b[32m    202\u001b[39m \n\u001b[32m   (...)\u001b[39m\u001b[32m    205\u001b[39m \u001b[33;03mthe args/kwargs using `parameters_to_positional_and_keyword` directly\u001b[39;00m\n\u001b[32m    206\u001b[39m \u001b[33;03m\"\"\"\u001b[39;00m\n\u001b[32m    207\u001b[39m args, kwargs = parameters_to_args_kwargs(fn, parameters)\n\u001b[32m--> \u001b[39m\u001b[32m208\u001b[39m \u001b[38;5;28;01mreturn\u001b[39;00m \u001b[43mfn\u001b[49m\u001b[43m(\u001b[49m\u001b[43m*\u001b[49m\u001b[43margs\u001b[49m\u001b[43m,\u001b[49m\u001b[43m \u001b[49m\u001b[43m*\u001b[49m\u001b[43m*\u001b[49m\u001b[43mkwargs\u001b[49m\u001b[43m)\u001b[49m\n",
      "\u001b[36mCell\u001b[39m\u001b[36m \u001b[39m\u001b[32mIn[35]\u001b[39m\u001b[32m, line 46\u001b[39m, in \u001b[36mget_weather_data\u001b[39m\u001b[34m(province_context)\u001b[39m\n\u001b[32m     35\u001b[39m timestamp = datetime.now()\n\u001b[32m     37\u001b[39m \u001b[38;5;66;03m# Create dictionary with required fields\u001b[39;00m\n\u001b[32m     38\u001b[39m weather_dict = {\n\u001b[32m     39\u001b[39m     \u001b[33m'\u001b[39m\u001b[33mtimestamp\u001b[39m\u001b[33m'\u001b[39m: timestamp,\n\u001b[32m     40\u001b[39m     \u001b[33m'\u001b[39m\u001b[33myear\u001b[39m\u001b[33m'\u001b[39m: timestamp.year,\n\u001b[32m     41\u001b[39m     \u001b[33m'\u001b[39m\u001b[33mmonth\u001b[39m\u001b[33m'\u001b[39m: timestamp.month,\n\u001b[32m     42\u001b[39m     \u001b[33m'\u001b[39m\u001b[33mday\u001b[39m\u001b[33m'\u001b[39m: timestamp.day,\n\u001b[32m     43\u001b[39m     \u001b[33m'\u001b[39m\u001b[33mhour\u001b[39m\u001b[33m'\u001b[39m: timestamp.hour,\n\u001b[32m     44\u001b[39m     \u001b[33m'\u001b[39m\u001b[33mminute\u001b[39m\u001b[33m'\u001b[39m: timestamp.minute,\n\u001b[32m     45\u001b[39m     \u001b[33m'\u001b[39m\u001b[33mcreated_at\u001b[39m\u001b[33m'\u001b[39m: created_at,\n\u001b[32m---> \u001b[39m\u001b[32m46\u001b[39m     \u001b[33m'\u001b[39m\u001b[33mlocation\u001b[39m\u001b[33m'\u001b[39m: \u001b[43mlocation_name\u001b[49m,\n\u001b[32m     47\u001b[39m     \u001b[33m'\u001b[39m\u001b[33mtemperature\u001b[39m\u001b[33m'\u001b[39m: data[\u001b[33m'\u001b[39m\u001b[33mmain\u001b[39m\u001b[33m'\u001b[39m][\u001b[33m'\u001b[39m\u001b[33mtemp\u001b[39m\u001b[33m'\u001b[39m],\n\u001b[32m     48\u001b[39m     \u001b[33m'\u001b[39m\u001b[33mfeels_like\u001b[39m\u001b[33m'\u001b[39m: data[\u001b[33m'\u001b[39m\u001b[33mmain\u001b[39m\u001b[33m'\u001b[39m][\u001b[33m'\u001b[39m\u001b[33mfeels_like\u001b[39m\u001b[33m'\u001b[39m],\n\u001b[32m     49\u001b[39m     \u001b[33m'\u001b[39m\u001b[33mhumidity\u001b[39m\u001b[33m'\u001b[39m: data[\u001b[33m'\u001b[39m\u001b[33mmain\u001b[39m\u001b[33m'\u001b[39m][\u001b[33m'\u001b[39m\u001b[33mhumidity\u001b[39m\u001b[33m'\u001b[39m],\n\u001b[32m     50\u001b[39m     \u001b[33m'\u001b[39m\u001b[33mpressure\u001b[39m\u001b[33m'\u001b[39m: data[\u001b[33m'\u001b[39m\u001b[33mmain\u001b[39m\u001b[33m'\u001b[39m][\u001b[33m'\u001b[39m\u001b[33mpressure\u001b[39m\u001b[33m'\u001b[39m],\n\u001b[32m     51\u001b[39m     \u001b[33m'\u001b[39m\u001b[33mwind_speed\u001b[39m\u001b[33m'\u001b[39m: data[\u001b[33m'\u001b[39m\u001b[33mwind\u001b[39m\u001b[33m'\u001b[39m][\u001b[33m'\u001b[39m\u001b[33mspeed\u001b[39m\u001b[33m'\u001b[39m],\n\u001b[32m     52\u001b[39m     \u001b[33m'\u001b[39m\u001b[33mvisibility\u001b[39m\u001b[33m'\u001b[39m: data.get(\u001b[33m'\u001b[39m\u001b[33mvisibility\u001b[39m\u001b[33m'\u001b[39m),\n\u001b[32m     53\u001b[39m     \u001b[33m'\u001b[39m\u001b[33mweather_main\u001b[39m\u001b[33m'\u001b[39m: data[\u001b[33m'\u001b[39m\u001b[33mweather\u001b[39m\u001b[33m'\u001b[39m][\u001b[32m0\u001b[39m][\u001b[33m'\u001b[39m\u001b[33mmain\u001b[39m\u001b[33m'\u001b[39m],\n\u001b[32m     54\u001b[39m     \u001b[33m'\u001b[39m\u001b[33mweather_description\u001b[39m\u001b[33m'\u001b[39m: data[\u001b[33m'\u001b[39m\u001b[33mweather\u001b[39m\u001b[33m'\u001b[39m][\u001b[32m0\u001b[39m][\u001b[33m'\u001b[39m\u001b[33mdescription\u001b[39m\u001b[33m'\u001b[39m]\n\u001b[32m     55\u001b[39m }\n\u001b[32m     57\u001b[39m \u001b[38;5;66;03m# Create DataFrame\u001b[39;00m\n\u001b[32m     58\u001b[39m \u001b[38;5;66;03m# df = pd.DataFrame([weather_dict])\u001b[39;00m\n\u001b[32m     59\u001b[39m \n\u001b[32m     60\u001b[39m \u001b[38;5;66;03m# return df\u001b[39;00m\n\u001b[32m     61\u001b[39m \u001b[38;5;28;01mreturn\u001b[39;00m weather_dict\n",
      "\u001b[31mNameError\u001b[39m: name 'location_name' is not defined"
     ]
    }
   ],
   "source": [
    "provinces = {\n",
    "    \"Satitram Alumni\": {\n",
    "        \"lat\": 13.752916,\n",
    "        \"lon\": 100.618616\n",
    "    },\n",
    "    \"Siam Paragon\": {\n",
    "        \"lat\": 13.746239,\n",
    "        \"lon\": 100.534345\n",
    "    },\n",
    "    \"MBK Center\": {\n",
    "        \"lat\": 13.746141,\n",
    "        \"lon\": 100.530547\n",
    "    },\n",
    "    \"Chulalongkorn University\": {\n",
    "        \"lat\": 13.746724,\n",
    "        \"lon\": 100.530898\n",
    "    },\n",
    "    \"Erawan Shrine\": {\n",
    "        \"lat\": 13.746656,\n",
    "        \"lon\": 100.541333\n",
    "    },\n",
    "    \"CentralWorld\": {\n",
    "        \"lat\": 13.746774,\n",
    "        \"lon\": 100.539462\n",
    "    },\n",
    "    \"Pratunam Market\": {\n",
    "        \"lat\": 13.749609,\n",
    "        \"lon\": 100.539115\n",
    "    },\n",
    "    \"Jim Thompson House\": {\n",
    "        \"lat\": 13.746603,\n",
    "        \"lon\": 100.529531\n",
    "    },\n",
    "    \"Bangkok Art and Culture Centre\": {\n",
    "        \"lat\": 13.746599,\n",
    "        \"lon\": 100.531101\n",
    "    },\n",
    "    \"Lumphini Park\": {\n",
    "        \"lat\": 13.727924,\n",
    "        \"lon\": 100.542287\n",
    "    },\n",
    "    \"Wat Arun\": {\n",
    "        \"lat\": 13.743682,\n",
    "        \"lon\": 100.488146\n",
    "    },\n",
    "    \"Wat Pho\": {\n",
    "        \"lat\": 13.746697,\n",
    "        \"lon\": 100.493469\n",
    "    },\n",
    "    \"Grand Palace\": {\n",
    "        \"lat\": 13.750046,\n",
    "        \"lon\": 100.491346\n",
    "    },\n",
    "    \"Asiatique The Riverfront\": {\n",
    "        \"lat\": 13.703379,\n",
    "        \"lon\": 100.509145\n",
    "    },\n",
    "    \"ICONSIAM\": {\n",
    "        \"lat\": 13.723621,\n",
    "        \"lon\": 100.517333\n",
    "    },\n",
    "    \"Khao San Road\": {\n",
    "        \"lat\": 13.749136,\n",
    "        \"lon\": 100.495136\n",
    "    },\n",
    "    \"Terminal 21\": {\n",
    "        \"lat\": 13.736657,\n",
    "        \"lon\": 100.561172\n",
    "    },\n",
    "    \"The Mall Bangkapi\": {\n",
    "        \"lat\": 13.767090,\n",
    "        \"lon\": 100.640134\n",
    "    },\n",
    "    \"Dusit Zoo\": {\n",
    "        \"lat\": 13.766410,\n",
    "        \"lon\": 100.525019\n",
    "    },\n",
    "    \"Sukhumvit Road\": {\n",
    "        \"lat\": 13.731731,\n",
    "        \"lon\": 100.571259\n",
    "    }\n",
    "}\n",
    "province='Satitram Alumni'\n",
    "province_context={\n",
    "    'province':province,\n",
    "    'lat':provinces[province]['lat'],\n",
    "    'lon':provinces[province]['lon'],\n",
    "}\n",
    "get_weather_data(province_context)"
   ]
  },
  {
   "cell_type": "code",
   "execution_count": 28,
   "id": "194b4b84-fdbf-47ed-8477-20687050d55b",
   "metadata": {},
   "outputs": [
    {
     "data": {
      "text/plain": [
       "{'timestamp': datetime.datetime(2025, 5, 9, 16, 1, 8, 102102, tzinfo=<DstTzInfo 'Asia/Bangkok' +07+7:00:00 STD>),\n",
       " 'year': 2025,\n",
       " 'month': 5,\n",
       " 'day': 9,\n",
       " 'hour': 16,\n",
       " 'minute': 1,\n",
       " 'created_at': datetime.datetime(2025, 5, 9, 15, 59, 31, tzinfo=<DstTzInfo 'Asia/Bangkok' +07+7:00:00 STD>),\n",
       " 'location': 'Satitram Alumni',\n",
       " 'temperature': 35.3,\n",
       " 'feels_like': 42.3,\n",
       " 'humidity': 58,\n",
       " 'pressure': 1003,\n",
       " 'wind_speed': 4.12,\n",
       " 'visibility': 10000,\n",
       " 'weather_main': 'Thunderstorm',\n",
       " 'weather_description': 'พายุฟ้าคะนอง'}"
      ]
     },
     "execution_count": 28,
     "metadata": {},
     "output_type": "execute_result"
    }
   ],
   "source": [
    "locations = {\n",
    "    \"Satitram Alumni\": {\n",
    "        \"lat\": 13.752916,\n",
    "        \"lon\": 100.618616\n",
    "    }\n",
    "}\n",
    "\n",
    "location = \"Satitram Alumni\"\n",
    "location_context = {\n",
    "    'location': location,\n",
    "    'lat': locations[location]['lat'],\n",
    "    'lon': locations[location]['lon'],\n",
    "}\n",
    "\n",
    "get_weather_data(\"Satitram Alumni\")"
   ]
  },
  {
   "cell_type": "code",
   "execution_count": 26,
   "id": "6d4beaf7-b9dd-469e-84df-a6e6e2cb18f7",
   "metadata": {},
   "outputs": [
    {
     "data": {
      "text/html": [
       "<pre style=\"white-space:pre;overflow-x:auto;line-height:normal;font-family:Menlo,'DejaVu Sans Mono',consolas,'Courier New',monospace\">08:42:54.238 | <span style=\"color: #008080; text-decoration-color: #008080\">INFO</span>    | prefect.engine - Created flow run<span style=\"color: #800080; text-decoration-color: #800080\"> 'capable-quoll'</span> for flow<span style=\"color: #800080; text-decoration-color: #800080; font-weight: bold\"> 'main-flow'</span>\n",
       "</pre>\n"
      ],
      "text/plain": [
       "08:42:54.238 | \u001b[36mINFO\u001b[0m    | prefect.engine - Created flow run\u001b[35m 'capable-quoll'\u001b[0m for flow\u001b[1;35m 'main-flow'\u001b[0m\n"
      ]
     },
     "metadata": {},
     "output_type": "display_data"
    },
    {
     "data": {
      "text/html": [
       "<pre style=\"white-space:pre;overflow-x:auto;line-height:normal;font-family:Menlo,'DejaVu Sans Mono',consolas,'Courier New',monospace\">08:42:54.241 | <span style=\"color: #008080; text-decoration-color: #008080\">INFO</span>    | prefect.engine - View at <span style=\"color: #0000ff; text-decoration-color: #0000ff\">http://prefect-server:4200/runs/flow-run/a504ba93-b778-4486-b307-74b0c734276d</span>\n",
       "</pre>\n"
      ],
      "text/plain": [
       "08:42:54.241 | \u001b[36mINFO\u001b[0m    | prefect.engine - View at \u001b[94mhttp://prefect-server:4200/runs/flow-run/a504ba93-b778-4486-b307-74b0c734276d\u001b[0m\n"
      ]
     },
     "metadata": {},
     "output_type": "display_data"
    },
    {
     "data": {
      "text/html": [
       "<pre style=\"white-space:pre;overflow-x:auto;line-height:normal;font-family:Menlo,'DejaVu Sans Mono',consolas,'Courier New',monospace\">08:42:54.346 | <span style=\"color: #008080; text-decoration-color: #008080\">INFO</span>    | Flow run<span style=\"color: #800080; text-decoration-color: #800080\"> 'capable-quoll'</span> - Finished in state <span style=\"color: #008000; text-decoration-color: #008000\">Completed</span>()\n",
       "</pre>\n"
      ],
      "text/plain": [
       "08:42:54.346 | \u001b[36mINFO\u001b[0m    | Flow run\u001b[35m 'capable-quoll'\u001b[0m - Finished in state \u001b[32mCompleted\u001b[0m()\n"
      ]
     },
     "metadata": {},
     "output_type": "display_data"
    }
   ],
   "source": [
    "from prefect import flow\n",
    "import pandas as pd\n",
    "from datetime import datetime\n",
    "\n",
    "# Define the locations dictionary\n",
    "locations = {\n",
    "    \"Satitram Alumni\": {\n",
    "        \"lat\": 13.752916,\n",
    "        \"lon\": 100.618616\n",
    "    }\n",
    "}\n",
    "\n",
    "# Define the function that fetches weather data\n",
    "def get_weather_data(location_name):\n",
    "    lat = locations[location_name]['lat']\n",
    "    lon = locations[location_name]['lon']\n",
    "\n",
    "    # Your API call logic here (Make sure the API is properly set up)\n",
    "\n",
    "    # Just for illustration, let's return a mock weather data dict\n",
    "    return {\n",
    "        \"location\": location_name,\n",
    "        \"lat\": lat,\n",
    "        \"lon\": lon,\n",
    "        \"temperature\": 30,  # Mock data\n",
    "        \"humidity\": 70,     # Mock data\n",
    "        \"timestamp\": datetime.now()  # Add timestamp for partitioning\n",
    "    }\n",
    "\n",
    "@flow(name=\"main-flow\", log_prints=True)\n",
    "def main_flow():\n",
    "    # Fetch the weather data for Satitram Alumni only\n",
    "    weather_data = get_weather_data('Satitram Alumni')\n",
    "\n",
    "    # Convert to DataFrame\n",
    "    df = pd.DataFrame([weather_data])\n",
    "\n",
    "    # Add partition columns from the timestamp\n",
    "    df['year'] = df['timestamp'].dt.year\n",
    "    df['month'] = df['timestamp'].dt.month\n",
    "    df['day'] = df['timestamp'].dt.day\n",
    "    df['hour'] = df['timestamp'].dt.hour\n",
    "\n",
    "    # lakeFS credentials from your docker-compose.yml\n",
    "    ACCESS_KEY = \"access_key\"\n",
    "    SECRET_KEY = \"secret_key\"\n",
    "    \n",
    "    # lakeFS endpoint (running locally)\n",
    "    lakefs_endpoint = \"http://lakefs-dev:8000/\"\n",
    "    \n",
    "    # lakeFS repository, branch, and file path\n",
    "    repo = \"weather\"\n",
    "    branch = \"main\"\n",
    "    path = \"weather.parquet\"\n",
    "    \n",
    "    # Construct the full lakeFS S3-compatible path\n",
    "    lakefs_s3_path = f\"s3a://{repo}/{branch}/{path}\"\n",
    "    \n",
    "    # Configure storage_options for lakeFS (S3-compatible)\n",
    "    storage_options = {\n",
    "        \"key\": ACCESS_KEY,\n",
    "        \"secret\": SECRET_KEY,\n",
    "        \"client_kwargs\": {\n",
    "            \"endpoint_url\": lakefs_endpoint\n",
    "        }\n",
    "    }\n",
    "    \n",
    "    # Save to lakeFS\n",
    "    df.to_parquet(\n",
    "        lakefs_s3_path,\n",
    "        storage_options=storage_options,\n",
    "        partition_cols=['year', 'month', 'day', 'hour'],\n",
    "    )\n",
    "\n",
    "# Run the main flow\n",
    "main_flow()"
   ]
  },
  {
   "cell_type": "code",
   "execution_count": null,
   "id": "8121fe21-9299-4510-910e-643c9cb78a28",
   "metadata": {},
   "outputs": [],
   "source": []
  }
 ],
 "metadata": {
  "kernelspec": {
   "display_name": "Python 3 (ipykernel)",
   "language": "python",
   "name": "python3"
  },
  "language_info": {
   "codemirror_mode": {
    "name": "ipython",
    "version": 3
   },
   "file_extension": ".py",
   "mimetype": "text/x-python",
   "name": "python",
   "nbconvert_exporter": "python",
   "pygments_lexer": "ipython3",
   "version": "3.11.9"
  }
 },
 "nbformat": 4,
 "nbformat_minor": 5
}
