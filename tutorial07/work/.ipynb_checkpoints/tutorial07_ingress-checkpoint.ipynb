{
 "cells": [
  {
   "cell_type": "markdown",
   "id": "2b537ee8-fc9a-494a-9a4f-861eb7083835",
   "metadata": {},
   "source": [
    "# plan\n",
    "- define province names\n",
    "- create entrypoint for main flow\n",
    "- create subtasks\n",
    "  - get api results and parse to dataframe\n",
    "  - write the dataframe to lakefs\n"
   ]
  },
  {
   "cell_type": "code",
   "execution_count": 6,
   "id": "9bab0920-b399-42de-ba7f-074aeb1ee475",
   "metadata": {},
   "outputs": [],
   "source": [
    "import requests\n",
    "import pandas as pd\n",
    "from datetime import datetime\n",
    "import pytz\n",
    "\n",
    "# API endpoint and parameters\n",
    "ONECALL_ENDPOINT = \"https://api.openweathermap.org/data/2.5/onecall\"\n",
    "API_KEY = \"70e208d9d8ba1534136297fb1f3fe396\"  # Replace with your actual API key\n",
    "\n",
    "location = {\n",
    "    \"Satitram Alumni\": {\"lat\": 13.754174, \"lon\": 100.615676},\n",
    "}\n",
    "\n",
    "def get_weather_data(province='Satitram Alumni'):\n",
    "    lat = provinces[province]['lat']\n",
    "    lon = provinces[province]['lon']\n",
    "\n",
    "    params = {\n",
    "        \"lat\": lat,\n",
    "        \"lon\": lon,\n",
    "        \"appid\": API_KEY,\n",
    "        \"units\": \"metric\",\n",
    "        \"lang\": \"th\",\n",
    "        # \"exclude\": \"minutely,hourly,daily,alerts\"  # เอาเฉพาะ current\n",
    "    }\n",
    "\n",
    "    try:\n",
    "        response = requests.get(ONECALL_ENDPOINT, params=params)\n",
    "        response.raise_for_status()\n",
    "        data = response.json()\n",
    "\n",
    "        current = data['current']\n",
    "\n",
    "        thai_tz = pytz.timezone('Asia/Bangkok')\n",
    "        timestamp = datetime.now(thai_tz)\n",
    "        created_at = datetime.fromtimestamp(current['dt'], tz=thai_tz)\n",
    "\n",
    "        weather_dict = {\n",
    "            'timestamp': timestamp,\n",
    "            'year': timestamp.year,\n",
    "            'month': timestamp.month,\n",
    "            'day': timestamp.day,\n",
    "            'hour': timestamp.hour,\n",
    "            'minute': timestamp.minute,\n",
    "            'created_at': created_at,\n",
    "            'requested_province': province,\n",
    "            'temperature': current['temp'],\n",
    "            'feels_like': current['feels_like'],\n",
    "            'humidity': current['humidity'],\n",
    "            'pressure': current['pressure'],\n",
    "            'wind_speed': current['wind_speed'],\n",
    "            'uvi': current.get('uvi'),\n",
    "            'visibility': current.get('visibility'),\n",
    "            'weather_main': current['weather'][0]['main'],\n",
    "            'weather_description': current['weather'][0]['description']\n",
    "        }\n",
    "\n",
    "        return weather_dict\n",
    "\n",
    "    except requests.exceptions.RequestException as e:\n",
    "        print(f\"Error fetching data: {e}\")\n",
    "        return None\n",
    "    except KeyError as e:\n",
    "        print(f\"Error processing data: Missing key {e}\")\n",
    "        return None"
   ]
  },
  {
   "cell_type": "code",
   "execution_count": 2,
   "id": "194b4b84-fdbf-47ed-8477-20687050d55b",
   "metadata": {},
   "outputs": [
    {
     "data": {
      "text/html": [
       "<pre style=\"white-space:pre;overflow-x:auto;line-height:normal;font-family:Menlo,'DejaVu Sans Mono',consolas,'Courier New',monospace\">06:57:50.546 | <span style=\"color: #008080; text-decoration-color: #008080\">INFO</span>    | Task run 'get_weather_data' - Created task run 'get_weather_data' for task 'get_weather_data'\n",
       "</pre>\n"
      ],
      "text/plain": [
       "06:57:50.546 | \u001b[36mINFO\u001b[0m    | Task run 'get_weather_data' - Created task run 'get_weather_data' for task 'get_weather_data'\n"
      ]
     },
     "metadata": {},
     "output_type": "display_data"
    },
    {
     "data": {
      "text/html": [
       "<pre style=\"white-space:pre;overflow-x:auto;line-height:normal;font-family:Menlo,'DejaVu Sans Mono',consolas,'Courier New',monospace\">06:57:50.758 | <span style=\"color: #008080; text-decoration-color: #008080\">INFO</span>    | Task run 'get_weather_data' - Finished in state <span style=\"color: #008000; text-decoration-color: #008000\">Completed</span>()\n",
       "</pre>\n"
      ],
      "text/plain": [
       "06:57:50.758 | \u001b[36mINFO\u001b[0m    | Task run 'get_weather_data' - Finished in state \u001b[32mCompleted\u001b[0m()\n"
      ]
     },
     "metadata": {},
     "output_type": "display_data"
    },
    {
     "data": {
      "text/plain": [
       "{'timestamp': datetime.datetime(2025, 5, 8, 6, 57, 50, 725917),\n",
       " 'year': 2025,\n",
       " 'month': 5,\n",
       " 'day': 8,\n",
       " 'hour': 6,\n",
       " 'minute': 57,\n",
       " 'created_at': datetime.datetime(2025, 5, 8, 6, 57, 50, 716646, tzinfo=<DstTzInfo 'Asia/Bangkok' LMT+6:42:00 STD>),\n",
       " 'requested_province': 'Pathum Thani',\n",
       " 'location': 'Pathum Thani',\n",
       " 'weather_main': 'Clouds',\n",
       " 'weather_description': 'scattered clouds',\n",
       " 'main.temp': 35.33}"
      ]
     },
     "execution_count": 2,
     "metadata": {},
     "output_type": "execute_result"
    }
   ],
   "source": [
    "provinces = {\n",
    "    \"Pathum Thani\":{\n",
    "        \"lat\": 14.0134,\n",
    "        \"lon\": 100.5304\n",
    "    },\n",
    "    \"Bangkok\":{\n",
    "            \"lat\": 13.7367,\n",
    "            \"lon\": 100.5232\n",
    "    },\n",
    "    \"Chiang Mai\":{\n",
    "        \"lat\": 18.7883,\n",
    "        \"lon\": 98.9853\n",
    "    },\n",
    "    \"Phuket\":{\n",
    "        \"lat\": 7.9519,\n",
    "        \"lon\": 98.3381\n",
    "    }\n",
    "}\n",
    "province='Pathum Thani'\n",
    "province_context={\n",
    "    'province':province,\n",
    "    'lat':provinces[province]['lat'],\n",
    "    'lon':provinces[province]['lon'],\n",
    "}\n",
    "get_weather_data(province_context)"
   ]
  },
  {
   "cell_type": "code",
   "execution_count": 5,
   "id": "6d4beaf7-b9dd-469e-84df-a6e6e2cb18f7",
   "metadata": {},
   "outputs": [
    {
     "data": {
      "text/html": [
       "<pre style=\"white-space:pre;overflow-x:auto;line-height:normal;font-family:Menlo,'DejaVu Sans Mono',consolas,'Courier New',monospace\">10:48:34.042 | <span style=\"color: #008080; text-decoration-color: #008080\">INFO</span>    | prefect.engine - Created flow run<span style=\"color: #800080; text-decoration-color: #800080\"> 'agate-starling'</span> for flow<span style=\"color: #800080; text-decoration-color: #800080; font-weight: bold\"> 'main-flow'</span>\n",
       "</pre>\n"
      ],
      "text/plain": [
       "10:48:34.042 | \u001b[36mINFO\u001b[0m    | prefect.engine - Created flow run\u001b[35m 'agate-starling'\u001b[0m for flow\u001b[1;35m 'main-flow'\u001b[0m\n"
      ]
     },
     "metadata": {},
     "output_type": "display_data"
    },
    {
     "data": {
      "text/html": [
       "<pre style=\"white-space:pre;overflow-x:auto;line-height:normal;font-family:Menlo,'DejaVu Sans Mono',consolas,'Courier New',monospace\">10:48:34.043 | <span style=\"color: #008080; text-decoration-color: #008080\">INFO</span>    | prefect.engine - View at <span style=\"color: #0000ff; text-decoration-color: #0000ff\">http://prefect-server:4200/runs/flow-run/58b1c2b1-f92c-49c3-b7d1-262b451a340a</span>\n",
       "</pre>\n"
      ],
      "text/plain": [
       "10:48:34.043 | \u001b[36mINFO\u001b[0m    | prefect.engine - View at \u001b[94mhttp://prefect-server:4200/runs/flow-run/58b1c2b1-f92c-49c3-b7d1-262b451a340a\u001b[0m\n"
      ]
     },
     "metadata": {},
     "output_type": "display_data"
    },
    {
     "data": {
      "text/html": [
       "<pre style=\"white-space:pre;overflow-x:auto;line-height:normal;font-family:Menlo,'DejaVu Sans Mono',consolas,'Courier New',monospace\">10:48:34.141 | <span style=\"color: #008080; text-decoration-color: #008080\">INFO</span>    | Task run 'get_weather_data-0' - Created task run 'get_weather_data-0' for task 'get_weather_data'\n",
       "</pre>\n"
      ],
      "text/plain": [
       "10:48:34.141 | \u001b[36mINFO\u001b[0m    | Task run 'get_weather_data-0' - Created task run 'get_weather_data-0' for task 'get_weather_data'\n"
      ]
     },
     "metadata": {},
     "output_type": "display_data"
    },
    {
     "data": {
      "text/html": [
       "<pre style=\"white-space:pre;overflow-x:auto;line-height:normal;font-family:Menlo,'DejaVu Sans Mono',consolas,'Courier New',monospace\">10:48:34.322 | <span style=\"color: #008080; text-decoration-color: #008080\">INFO</span>    | Task run 'get_weather_data-0' - Finished in state <span style=\"color: #008000; text-decoration-color: #008000\">Completed</span>()\n",
       "</pre>\n"
      ],
      "text/plain": [
       "10:48:34.322 | \u001b[36mINFO\u001b[0m    | Task run 'get_weather_data-0' - Finished in state \u001b[32mCompleted\u001b[0m()\n"
      ]
     },
     "metadata": {},
     "output_type": "display_data"
    },
    {
     "data": {
      "text/html": [
       "<pre style=\"white-space:pre;overflow-x:auto;line-height:normal;font-family:Menlo,'DejaVu Sans Mono',consolas,'Courier New',monospace\">10:48:34.392 | <span style=\"color: #008080; text-decoration-color: #008080\">INFO</span>    | Task run 'get_weather_data-1' - Created task run 'get_weather_data-1' for task 'get_weather_data'\n",
       "</pre>\n"
      ],
      "text/plain": [
       "10:48:34.392 | \u001b[36mINFO\u001b[0m    | Task run 'get_weather_data-1' - Created task run 'get_weather_data-1' for task 'get_weather_data'\n"
      ]
     },
     "metadata": {},
     "output_type": "display_data"
    },
    {
     "data": {
      "text/html": [
       "<pre style=\"white-space:pre;overflow-x:auto;line-height:normal;font-family:Menlo,'DejaVu Sans Mono',consolas,'Courier New',monospace\">10:48:34.591 | <span style=\"color: #008080; text-decoration-color: #008080\">INFO</span>    | Task run 'get_weather_data-1' - Finished in state <span style=\"color: #008000; text-decoration-color: #008000\">Completed</span>()\n",
       "</pre>\n"
      ],
      "text/plain": [
       "10:48:34.591 | \u001b[36mINFO\u001b[0m    | Task run 'get_weather_data-1' - Finished in state \u001b[32mCompleted\u001b[0m()\n"
      ]
     },
     "metadata": {},
     "output_type": "display_data"
    },
    {
     "data": {
      "text/html": [
       "<pre style=\"white-space:pre;overflow-x:auto;line-height:normal;font-family:Menlo,'DejaVu Sans Mono',consolas,'Courier New',monospace\">10:48:34.674 | <span style=\"color: #008080; text-decoration-color: #008080\">INFO</span>    | Task run 'get_weather_data-2' - Created task run 'get_weather_data-2' for task 'get_weather_data'\n",
       "</pre>\n"
      ],
      "text/plain": [
       "10:48:34.674 | \u001b[36mINFO\u001b[0m    | Task run 'get_weather_data-2' - Created task run 'get_weather_data-2' for task 'get_weather_data'\n"
      ]
     },
     "metadata": {},
     "output_type": "display_data"
    },
    {
     "data": {
      "text/html": [
       "<pre style=\"white-space:pre;overflow-x:auto;line-height:normal;font-family:Menlo,'DejaVu Sans Mono',consolas,'Courier New',monospace\">10:48:34.855 | <span style=\"color: #008080; text-decoration-color: #008080\">INFO</span>    | Task run 'get_weather_data-2' - Finished in state <span style=\"color: #008000; text-decoration-color: #008000\">Completed</span>()\n",
       "</pre>\n"
      ],
      "text/plain": [
       "10:48:34.855 | \u001b[36mINFO\u001b[0m    | Task run 'get_weather_data-2' - Finished in state \u001b[32mCompleted\u001b[0m()\n"
      ]
     },
     "metadata": {},
     "output_type": "display_data"
    },
    {
     "data": {
      "text/html": [
       "<pre style=\"white-space:pre;overflow-x:auto;line-height:normal;font-family:Menlo,'DejaVu Sans Mono',consolas,'Courier New',monospace\">10:48:34.934 | <span style=\"color: #008080; text-decoration-color: #008080\">INFO</span>    | Task run 'get_weather_data-3' - Created task run 'get_weather_data-3' for task 'get_weather_data'\n",
       "</pre>\n"
      ],
      "text/plain": [
       "10:48:34.934 | \u001b[36mINFO\u001b[0m    | Task run 'get_weather_data-3' - Created task run 'get_weather_data-3' for task 'get_weather_data'\n"
      ]
     },
     "metadata": {},
     "output_type": "display_data"
    },
    {
     "data": {
      "text/html": [
       "<pre style=\"white-space:pre;overflow-x:auto;line-height:normal;font-family:Menlo,'DejaVu Sans Mono',consolas,'Courier New',monospace\">10:48:35.116 | <span style=\"color: #008080; text-decoration-color: #008080\">INFO</span>    | Task run 'get_weather_data-3' - Finished in state <span style=\"color: #008000; text-decoration-color: #008000\">Completed</span>()\n",
       "</pre>\n"
      ],
      "text/plain": [
       "10:48:35.116 | \u001b[36mINFO\u001b[0m    | Task run 'get_weather_data-3' - Finished in state \u001b[32mCompleted\u001b[0m()\n"
      ]
     },
     "metadata": {},
     "output_type": "display_data"
    },
    {
     "data": {
      "text/html": [
       "<pre style=\"white-space:pre;overflow-x:auto;line-height:normal;font-family:Menlo,'DejaVu Sans Mono',consolas,'Courier New',monospace\">10:48:35.159 | <span style=\"color: #008080; text-decoration-color: #008080\">INFO</span>    | Flow run<span style=\"color: #800080; text-decoration-color: #800080\"> 'agate-starling'</span> - Finished in state <span style=\"color: #008000; text-decoration-color: #008000\">Completed</span>()\n",
       "</pre>\n"
      ],
      "text/plain": [
       "10:48:35.159 | \u001b[36mINFO\u001b[0m    | Flow run\u001b[35m 'agate-starling'\u001b[0m - Finished in state \u001b[32mCompleted\u001b[0m()\n"
      ]
     },
     "metadata": {},
     "output_type": "display_data"
    }
   ],
   "source": [
    "@flow(name=\"main-flow\", log_prints=True)\n",
    "def main_flow():\n",
    "    location = {\n",
    "    # \"Pathum Thani\":{\n",
    "    #     \"lat\": 14.0134,\n",
    "    #     \"lon\": 100.5304\n",
    "    # },\n",
    "    # \"Bangkok\":{\n",
    "    #         \"lat\": 13.7367,\n",
    "    #         \"lon\": 100.5232\n",
    "    # },\n",
    "    # \"Chiang Mai\":{\n",
    "    #     \"lat\": 18.7883,\n",
    "    #     \"lon\": 98.9853\n",
    "    # },\n",
    "    # \"Phuket\":{\n",
    "    #     \"lat\": 7.9519,\n",
    "    #     \"lon\": 98.3381\n",
    "    # },\n",
    "      \n",
    "    \"Satitram Alumni\":{\n",
    "        \"lat\": 13.752916,\n",
    "        \"lon\": 100.618616\n",
    "    }\n",
    "}\n",
    "    # for province in provinces.keys:\n",
    "    #     province_context={\n",
    "    #         'province':province,\n",
    "    #         'lat':provinces[province]['lat'],\n",
    "    #         'lon':provinces[province]['lon'],\n",
    "    #     }\n",
    "    #     get_weather_data(province_context)\n",
    "        \n",
    "    df=pd.DataFrame([get_weather_data(\n",
    "        {\n",
    "            'province':province,\n",
    "            'lat':provinces[province]['lat'],\n",
    "            'lon':provinces[province]['lon'],\n",
    "        }\n",
    "    ) for province in list(provinces.keys())])\n",
    "    \n",
    "        # lakeFS credentials from your docker-compose.yml\n",
    "    ACCESS_KEY = \"access_key\"\n",
    "    SECRET_KEY = \"secret_key\"\n",
    "    \n",
    "    # lakeFS endpoint (running locally)\n",
    "    lakefs_endpoint = \"http://lakefs-dev:8000/\"\n",
    "    \n",
    "    # lakeFS repository, branch, and file path\n",
    "    repo = \"weather\"\n",
    "    branch = \"main\"\n",
    "    path = \"weather.parquet\"\n",
    "    \n",
    "    # Construct the full lakeFS S3-compatible path\n",
    "    lakefs_s3_path = f\"s3a://{repo}/{branch}/{path}\"\n",
    "    \n",
    "    # Configure storage_options for lakeFS (S3-compatible)\n",
    "    storage_options = {\n",
    "        \"key\": ACCESS_KEY,\n",
    "        \"secret\": SECRET_KEY,\n",
    "        \"client_kwargs\": {\n",
    "            \"endpoint_url\": lakefs_endpoint\n",
    "        }\n",
    "    }\n",
    "    df.to_parquet(\n",
    "        lakefs_s3_path,\n",
    "        storage_options=storage_options,\n",
    "        partition_cols=['year','month','day','hour'],\n",
    "        \n",
    "    )\n",
    "main_flow()"
   ]
  },
  {
   "cell_type": "code",
   "execution_count": null,
   "id": "8121fe21-9299-4510-910e-643c9cb78a28",
   "metadata": {},
   "outputs": [],
   "source": []
  }
 ],
 "metadata": {
  "kernelspec": {
   "display_name": "Python 3 (ipykernel)",
   "language": "python",
   "name": "python3"
  },
  "language_info": {
   "codemirror_mode": {
    "name": "ipython",
    "version": 3
   },
   "file_extension": ".py",
   "mimetype": "text/x-python",
   "name": "python",
   "nbconvert_exporter": "python",
   "pygments_lexer": "ipython3",
   "version": "3.11.9"
  }
 },
 "nbformat": 4,
 "nbformat_minor": 5
}
